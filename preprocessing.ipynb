{
  "nbformat": 4,
  "nbformat_minor": 0,
  "metadata": {
    "colab": {
      "name": "preprocessing.ipynb",
      "provenance": [],
      "collapsed_sections": [],
      "authorship_tag": "ABX9TyPjM83dHUjPv7IWkGWQ9GJH",
      "include_colab_link": true
    },
    "kernelspec": {
      "name": "python3",
      "display_name": "Python 3"
    },
    "language_info": {
      "name": "python"
    }
  },
  "cells": [
    {
      "cell_type": "markdown",
      "metadata": {
        "id": "view-in-github",
        "colab_type": "text"
      },
      "source": [
        "<a href=\"https://colab.research.google.com/github/seawavve/daconNewsTopicClassification/blob/main/preprocessing.ipynb\" target=\"_parent\"><img src=\"https://colab.research.google.com/assets/colab-badge.svg\" alt=\"Open In Colab\"/></a>"
      ]
    },
    {
      "cell_type": "code",
      "metadata": {
        "id": "SEegujPiDrGy"
      },
      "source": [
        "def clean_text(texts): \n",
        "  corpus = [] \n",
        "  for i in range(0, len(texts)): \n",
        "    review = re.sub(r'[^ ㄱ-ㅣ가-힣]', '', texts['title'][i])\n",
        "    review = re.sub(r'[@%\\\\*=()/~#&\\+á?\\xc3\\xa1\\-\\|\\.\\:\\;\\!\\-\\,\\_\\~\\$\\'\\\"]', '',str(texts['title'][i])) \n",
        "    #remove punctuation \n",
        "    review = re.sub(r'\\d+','', texts['title'][i])\n",
        "    # remove number \n",
        "    review = re.sub(r'\\s+', ' ', review) \n",
        "    #remove extra space \n",
        "    review = re.sub(r'<[^>]+>','',review) \n",
        "    #remove Html tags \n",
        "    review = re.sub(r'\\s+', ' ', review) \n",
        "    #remove spaces \n",
        "    review = re.sub(r\"^\\s+\", '', review) \n",
        "    #remove space from start \n",
        "    review = re.sub(r'\\s+$', '', review) \n",
        "    #remove space from the end \n",
        "    corpus.append(review) \n",
        "  return corpus"
      ],
      "execution_count": 2,
      "outputs": []
    },
    {
      "cell_type": "code",
      "metadata": {
        "id": "8-GP0LqmDvP5"
      },
      "source": [
        "data=pd.read_csv('augumented_train_data.csv')\n",
        "news_data=data[['title','topic_idx']]\n",
        "news_data['title'] = news_data['title'].str.replace(\"[^\\w]\", \" \")\n",
        "news_data['title'] = clean_text(news_data)\n",
        "news_data.to_csv('augumented_preprocessing_data.csv')"
      ],
      "execution_count": null,
      "outputs": []
    },
    {
      "cell_type": "code",
      "metadata": {
        "colab": {
          "base_uri": "https://localhost:8080/",
          "height": 162
        },
        "id": "9x0tBY6NII5o",
        "outputId": "0da061ac-4db8-4d0d-8b7d-22046be8d91e"
      },
      "source": [
        "clean_text(news_data)"
      ],
      "execution_count": 1,
      "outputs": [
        {
          "output_type": "error",
          "ename": "NameError",
          "evalue": "ignored",
          "traceback": [
            "\u001b[0;31m---------------------------------------------------------------------------\u001b[0m",
            "\u001b[0;31mNameError\u001b[0m                                 Traceback (most recent call last)",
            "\u001b[0;32m<ipython-input-1-689290c50fff>\u001b[0m in \u001b[0;36m<module>\u001b[0;34m()\u001b[0m\n\u001b[0;32m----> 1\u001b[0;31m \u001b[0mclean_text\u001b[0m\u001b[0;34m(\u001b[0m\u001b[0mnews_data\u001b[0m\u001b[0;34m)\u001b[0m\u001b[0;34m\u001b[0m\u001b[0;34m\u001b[0m\u001b[0m\n\u001b[0m",
            "\u001b[0;31mNameError\u001b[0m: name 'clean_text' is not defined"
          ]
        }
      ]
    },
    {
      "cell_type": "code",
      "metadata": {
        "id": "pnDR4YGpIJ7k"
      },
      "source": [
        ""
      ],
      "execution_count": null,
      "outputs": []
    }
  ]
}