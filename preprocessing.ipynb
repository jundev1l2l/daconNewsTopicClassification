{
  "nbformat": 4,
  "nbformat_minor": 0,
  "metadata": {
    "colab": {
      "name": "preprocessing.ipynb",
      "provenance": [],
      "collapsed_sections": [],
      "authorship_tag": "ABX9TyMano327Vc2H11OXVA2I5Ej",
      "include_colab_link": true
    },
    "kernelspec": {
      "name": "python3",
      "display_name": "Python 3"
    },
    "language_info": {
      "name": "python"
    }
  },
  "cells": [
    {
      "cell_type": "markdown",
      "metadata": {
        "id": "view-in-github",
        "colab_type": "text"
      },
      "source": [
        "<a href=\"https://colab.research.google.com/github/seawavve/daconNewsTopicClassification/blob/main/preprocessing.ipynb\" target=\"_parent\"><img src=\"https://colab.research.google.com/assets/colab-badge.svg\" alt=\"Open In Colab\"/></a>"
      ]
    },
    {
      "cell_type": "code",
      "metadata": {
        "id": "SEegujPiDrGy"
      },
      "source": [
        "def clean_text(texts): \n",
        "  corpus = [] \n",
        "  for i in range(0, len(texts)): \n",
        "    review = re.sub(r'[^ ㄱ-ㅣ가-힣]', '', texts['headline'][i])\n",
        "    review = re.sub(r'[@%\\\\*=()/~#&\\+á?\\xc3\\xa1\\-\\|\\.\\:\\;\\!\\-\\,\\_\\~\\$\\'\\\"]', '',str(texts['headline'][i])) \n",
        "    #remove punctuation \n",
        "    review = re.sub(r'\\d+','', texts['headline'][i])\n",
        "    # remove number \n",
        "    review = re.sub(r'\\s+', ' ', review) \n",
        "    #remove extra space \n",
        "    review = re.sub(r'<[^>]+>','',review) \n",
        "    #remove Html tags \n",
        "    review = re.sub(r'\\s+', ' ', review) \n",
        "    #remove spaces \n",
        "    review = re.sub(r\"^\\s+\", '', review) \n",
        "    #remove space from start \n",
        "    review = re.sub(r'\\s+$', '', review) \n",
        "    #remove space from the end \n",
        "    corpus.append(review) \n",
        "  return corpus"
      ],
      "execution_count": null,
      "outputs": []
    },
    {
      "cell_type": "code",
      "metadata": {
        "id": "8-GP0LqmDvP5"
      },
      "source": [
        "data=pd.read_csv('augumented_train_data.csv')\n",
        "news_data=data[['title','topic_idx']]\n",
        "news_data['headline'] = news_data['title'].str.replace(\"[^\\w]\", \" \")\n",
        "clean_text(news_data)"
      ],
      "execution_count": null,
      "outputs": []
    }
  ]
}