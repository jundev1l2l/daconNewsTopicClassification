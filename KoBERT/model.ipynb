{
  "nbformat": 4,
  "nbformat_minor": 0,
  "metadata": {
    "kernelspec": {
      "display_name": "Python 3",
      "language": "python",
      "name": "python3"
    },
    "language_info": {
      "codemirror_mode": {
        "name": "ipython",
        "version": 3
      },
      "file_extension": ".py",
      "mimetype": "text/x-python",
      "name": "python",
      "nbconvert_exporter": "python",
      "pygments_lexer": "ipython3",
      "version": "3.7.6-final"
    },
    "colab": {
      "name": "kobert_origin_model.ipynb",
      "provenance": [],
      "collapsed_sections": [
        "swz1zHIWv3mk"
      ],
      "include_colab_link": true
    },
    "accelerator": "GPU",
    "widgets": {
      "application/vnd.jupyter.widget-state+json": {
        "b1fa284352f74c28b11e012c00de63dd": {
          "model_module": "@jupyter-widgets/controls",
          "model_name": "HBoxModel",
          "state": {
            "_view_name": "HBoxView",
            "_dom_classes": [],
            "_model_name": "HBoxModel",
            "_view_module": "@jupyter-widgets/controls",
            "_model_module_version": "1.5.0",
            "_view_count": null,
            "_view_module_version": "1.5.0",
            "box_style": "",
            "layout": "IPY_MODEL_b15b1ddab55c4383b5842023cd0e39dd",
            "_model_module": "@jupyter-widgets/controls",
            "children": [
              "IPY_MODEL_9da896890ede419887e3b43113d80a61",
              "IPY_MODEL_cf59995fcbf84f51933ead44b9d34603"
            ]
          }
        },
        "b15b1ddab55c4383b5842023cd0e39dd": {
          "model_module": "@jupyter-widgets/base",
          "model_name": "LayoutModel",
          "state": {
            "_view_name": "LayoutView",
            "grid_template_rows": null,
            "right": null,
            "justify_content": null,
            "_view_module": "@jupyter-widgets/base",
            "overflow": null,
            "_model_module_version": "1.2.0",
            "_view_count": null,
            "flex_flow": null,
            "width": null,
            "min_width": null,
            "border": null,
            "align_items": null,
            "bottom": null,
            "_model_module": "@jupyter-widgets/base",
            "top": null,
            "grid_column": null,
            "overflow_y": null,
            "overflow_x": null,
            "grid_auto_flow": null,
            "grid_area": null,
            "grid_template_columns": null,
            "flex": null,
            "_model_name": "LayoutModel",
            "justify_items": null,
            "grid_row": null,
            "max_height": null,
            "align_content": null,
            "visibility": null,
            "align_self": null,
            "height": null,
            "min_height": null,
            "padding": null,
            "grid_auto_rows": null,
            "grid_gap": null,
            "max_width": null,
            "order": null,
            "_view_module_version": "1.2.0",
            "grid_template_areas": null,
            "object_position": null,
            "object_fit": null,
            "grid_auto_columns": null,
            "margin": null,
            "display": null,
            "left": null
          }
        },
        "9da896890ede419887e3b43113d80a61": {
          "model_module": "@jupyter-widgets/controls",
          "model_name": "FloatProgressModel",
          "state": {
            "_view_name": "ProgressView",
            "style": "IPY_MODEL_fb40daf3355a4704b9587af45bc72630",
            "_dom_classes": [],
            "description": "100%",
            "_model_name": "FloatProgressModel",
            "bar_style": "success",
            "max": 4281,
            "_view_module": "@jupyter-widgets/controls",
            "_model_module_version": "1.5.0",
            "value": 4281,
            "_view_count": null,
            "_view_module_version": "1.5.0",
            "orientation": "horizontal",
            "min": 0,
            "description_tooltip": null,
            "_model_module": "@jupyter-widgets/controls",
            "layout": "IPY_MODEL_34def511ef6f40f4a08acb74b4d23dc7"
          }
        },
        "cf59995fcbf84f51933ead44b9d34603": {
          "model_module": "@jupyter-widgets/controls",
          "model_name": "HTMLModel",
          "state": {
            "_view_name": "HTMLView",
            "style": "IPY_MODEL_cdf8c6880db54a0c9bd66b6dfa21123a",
            "_dom_classes": [],
            "description": "",
            "_model_name": "HTMLModel",
            "placeholder": "​",
            "_view_module": "@jupyter-widgets/controls",
            "_model_module_version": "1.5.0",
            "value": " 4281/4281 [26:53&lt;00:00,  2.65it/s]",
            "_view_count": null,
            "_view_module_version": "1.5.0",
            "description_tooltip": null,
            "_model_module": "@jupyter-widgets/controls",
            "layout": "IPY_MODEL_f043bdf1d5794572807a9e0b4b923bc2"
          }
        },
        "fb40daf3355a4704b9587af45bc72630": {
          "model_module": "@jupyter-widgets/controls",
          "model_name": "ProgressStyleModel",
          "state": {
            "_view_name": "StyleView",
            "_model_name": "ProgressStyleModel",
            "description_width": "initial",
            "_view_module": "@jupyter-widgets/base",
            "_model_module_version": "1.5.0",
            "_view_count": null,
            "_view_module_version": "1.2.0",
            "bar_color": null,
            "_model_module": "@jupyter-widgets/controls"
          }
        },
        "34def511ef6f40f4a08acb74b4d23dc7": {
          "model_module": "@jupyter-widgets/base",
          "model_name": "LayoutModel",
          "state": {
            "_view_name": "LayoutView",
            "grid_template_rows": null,
            "right": null,
            "justify_content": null,
            "_view_module": "@jupyter-widgets/base",
            "overflow": null,
            "_model_module_version": "1.2.0",
            "_view_count": null,
            "flex_flow": null,
            "width": null,
            "min_width": null,
            "border": null,
            "align_items": null,
            "bottom": null,
            "_model_module": "@jupyter-widgets/base",
            "top": null,
            "grid_column": null,
            "overflow_y": null,
            "overflow_x": null,
            "grid_auto_flow": null,
            "grid_area": null,
            "grid_template_columns": null,
            "flex": null,
            "_model_name": "LayoutModel",
            "justify_items": null,
            "grid_row": null,
            "max_height": null,
            "align_content": null,
            "visibility": null,
            "align_self": null,
            "height": null,
            "min_height": null,
            "padding": null,
            "grid_auto_rows": null,
            "grid_gap": null,
            "max_width": null,
            "order": null,
            "_view_module_version": "1.2.0",
            "grid_template_areas": null,
            "object_position": null,
            "object_fit": null,
            "grid_auto_columns": null,
            "margin": null,
            "display": null,
            "left": null
          }
        },
        "cdf8c6880db54a0c9bd66b6dfa21123a": {
          "model_module": "@jupyter-widgets/controls",
          "model_name": "DescriptionStyleModel",
          "state": {
            "_view_name": "StyleView",
            "_model_name": "DescriptionStyleModel",
            "description_width": "",
            "_view_module": "@jupyter-widgets/base",
            "_model_module_version": "1.5.0",
            "_view_count": null,
            "_view_module_version": "1.2.0",
            "_model_module": "@jupyter-widgets/controls"
          }
        },
        "f043bdf1d5794572807a9e0b4b923bc2": {
          "model_module": "@jupyter-widgets/base",
          "model_name": "LayoutModel",
          "state": {
            "_view_name": "LayoutView",
            "grid_template_rows": null,
            "right": null,
            "justify_content": null,
            "_view_module": "@jupyter-widgets/base",
            "overflow": null,
            "_model_module_version": "1.2.0",
            "_view_count": null,
            "flex_flow": null,
            "width": null,
            "min_width": null,
            "border": null,
            "align_items": null,
            "bottom": null,
            "_model_module": "@jupyter-widgets/base",
            "top": null,
            "grid_column": null,
            "overflow_y": null,
            "overflow_x": null,
            "grid_auto_flow": null,
            "grid_area": null,
            "grid_template_columns": null,
            "flex": null,
            "_model_name": "LayoutModel",
            "justify_items": null,
            "grid_row": null,
            "max_height": null,
            "align_content": null,
            "visibility": null,
            "align_self": null,
            "height": null,
            "min_height": null,
            "padding": null,
            "grid_auto_rows": null,
            "grid_gap": null,
            "max_width": null,
            "order": null,
            "_view_module_version": "1.2.0",
            "grid_template_areas": null,
            "object_position": null,
            "object_fit": null,
            "grid_auto_columns": null,
            "margin": null,
            "display": null,
            "left": null
          }
        },
        "674554a08f7c4cd1841f2448c0605314": {
          "model_module": "@jupyter-widgets/controls",
          "model_name": "HBoxModel",
          "state": {
            "_view_name": "HBoxView",
            "_dom_classes": [],
            "_model_name": "HBoxModel",
            "_view_module": "@jupyter-widgets/controls",
            "_model_module_version": "1.5.0",
            "_view_count": null,
            "_view_module_version": "1.5.0",
            "box_style": "",
            "layout": "IPY_MODEL_5fa94a85266a4170a1430473536e05bb",
            "_model_module": "@jupyter-widgets/controls",
            "children": [
              "IPY_MODEL_0d73e8f8df32477e9b3a70e34c25fc87",
              "IPY_MODEL_ad302f56cd7144e4840ce37feef55da9"
            ]
          }
        },
        "5fa94a85266a4170a1430473536e05bb": {
          "model_module": "@jupyter-widgets/base",
          "model_name": "LayoutModel",
          "state": {
            "_view_name": "LayoutView",
            "grid_template_rows": null,
            "right": null,
            "justify_content": null,
            "_view_module": "@jupyter-widgets/base",
            "overflow": null,
            "_model_module_version": "1.2.0",
            "_view_count": null,
            "flex_flow": null,
            "width": null,
            "min_width": null,
            "border": null,
            "align_items": null,
            "bottom": null,
            "_model_module": "@jupyter-widgets/base",
            "top": null,
            "grid_column": null,
            "overflow_y": null,
            "overflow_x": null,
            "grid_auto_flow": null,
            "grid_area": null,
            "grid_template_columns": null,
            "flex": null,
            "_model_name": "LayoutModel",
            "justify_items": null,
            "grid_row": null,
            "max_height": null,
            "align_content": null,
            "visibility": null,
            "align_self": null,
            "height": null,
            "min_height": null,
            "padding": null,
            "grid_auto_rows": null,
            "grid_gap": null,
            "max_width": null,
            "order": null,
            "_view_module_version": "1.2.0",
            "grid_template_areas": null,
            "object_position": null,
            "object_fit": null,
            "grid_auto_columns": null,
            "margin": null,
            "display": null,
            "left": null
          }
        },
        "0d73e8f8df32477e9b3a70e34c25fc87": {
          "model_module": "@jupyter-widgets/controls",
          "model_name": "FloatProgressModel",
          "state": {
            "_view_name": "ProgressView",
            "style": "IPY_MODEL_8bbf40b2cd6743f38a89e804197c6e89",
            "_dom_classes": [],
            "description": "100%",
            "_model_name": "FloatProgressModel",
            "bar_style": "success",
            "max": 286,
            "_view_module": "@jupyter-widgets/controls",
            "_model_module_version": "1.5.0",
            "value": 286,
            "_view_count": null,
            "_view_module_version": "1.5.0",
            "orientation": "horizontal",
            "min": 0,
            "description_tooltip": null,
            "_model_module": "@jupyter-widgets/controls",
            "layout": "IPY_MODEL_830cd853422b4d0a964f76a3d6c4e931"
          }
        },
        "ad302f56cd7144e4840ce37feef55da9": {
          "model_module": "@jupyter-widgets/controls",
          "model_name": "HTMLModel",
          "state": {
            "_view_name": "HTMLView",
            "style": "IPY_MODEL_39c77ae985bd411790dc8799a5cce0af",
            "_dom_classes": [],
            "description": "",
            "_model_name": "HTMLModel",
            "placeholder": "​",
            "_view_module": "@jupyter-widgets/controls",
            "_model_module_version": "1.5.0",
            "value": " 286/286 [00:37&lt;00:00,  7.56it/s]",
            "_view_count": null,
            "_view_module_version": "1.5.0",
            "description_tooltip": null,
            "_model_module": "@jupyter-widgets/controls",
            "layout": "IPY_MODEL_37b9a6c413524cd7a5563493062d09f4"
          }
        },
        "8bbf40b2cd6743f38a89e804197c6e89": {
          "model_module": "@jupyter-widgets/controls",
          "model_name": "ProgressStyleModel",
          "state": {
            "_view_name": "StyleView",
            "_model_name": "ProgressStyleModel",
            "description_width": "initial",
            "_view_module": "@jupyter-widgets/base",
            "_model_module_version": "1.5.0",
            "_view_count": null,
            "_view_module_version": "1.2.0",
            "bar_color": null,
            "_model_module": "@jupyter-widgets/controls"
          }
        },
        "830cd853422b4d0a964f76a3d6c4e931": {
          "model_module": "@jupyter-widgets/base",
          "model_name": "LayoutModel",
          "state": {
            "_view_name": "LayoutView",
            "grid_template_rows": null,
            "right": null,
            "justify_content": null,
            "_view_module": "@jupyter-widgets/base",
            "overflow": null,
            "_model_module_version": "1.2.0",
            "_view_count": null,
            "flex_flow": null,
            "width": null,
            "min_width": null,
            "border": null,
            "align_items": null,
            "bottom": null,
            "_model_module": "@jupyter-widgets/base",
            "top": null,
            "grid_column": null,
            "overflow_y": null,
            "overflow_x": null,
            "grid_auto_flow": null,
            "grid_area": null,
            "grid_template_columns": null,
            "flex": null,
            "_model_name": "LayoutModel",
            "justify_items": null,
            "grid_row": null,
            "max_height": null,
            "align_content": null,
            "visibility": null,
            "align_self": null,
            "height": null,
            "min_height": null,
            "padding": null,
            "grid_auto_rows": null,
            "grid_gap": null,
            "max_width": null,
            "order": null,
            "_view_module_version": "1.2.0",
            "grid_template_areas": null,
            "object_position": null,
            "object_fit": null,
            "grid_auto_columns": null,
            "margin": null,
            "display": null,
            "left": null
          }
        },
        "39c77ae985bd411790dc8799a5cce0af": {
          "model_module": "@jupyter-widgets/controls",
          "model_name": "DescriptionStyleModel",
          "state": {
            "_view_name": "StyleView",
            "_model_name": "DescriptionStyleModel",
            "description_width": "",
            "_view_module": "@jupyter-widgets/base",
            "_model_module_version": "1.5.0",
            "_view_count": null,
            "_view_module_version": "1.2.0",
            "_model_module": "@jupyter-widgets/controls"
          }
        },
        "37b9a6c413524cd7a5563493062d09f4": {
          "model_module": "@jupyter-widgets/base",
          "model_name": "LayoutModel",
          "state": {
            "_view_name": "LayoutView",
            "grid_template_rows": null,
            "right": null,
            "justify_content": null,
            "_view_module": "@jupyter-widgets/base",
            "overflow": null,
            "_model_module_version": "1.2.0",
            "_view_count": null,
            "flex_flow": null,
            "width": null,
            "min_width": null,
            "border": null,
            "align_items": null,
            "bottom": null,
            "_model_module": "@jupyter-widgets/base",
            "top": null,
            "grid_column": null,
            "overflow_y": null,
            "overflow_x": null,
            "grid_auto_flow": null,
            "grid_area": null,
            "grid_template_columns": null,
            "flex": null,
            "_model_name": "LayoutModel",
            "justify_items": null,
            "grid_row": null,
            "max_height": null,
            "align_content": null,
            "visibility": null,
            "align_self": null,
            "height": null,
            "min_height": null,
            "padding": null,
            "grid_auto_rows": null,
            "grid_gap": null,
            "max_width": null,
            "order": null,
            "_view_module_version": "1.2.0",
            "grid_template_areas": null,
            "object_position": null,
            "object_fit": null,
            "grid_auto_columns": null,
            "margin": null,
            "display": null,
            "left": null
          }
        }
      }
    }
  },
  "cells": [
    {
      "cell_type": "markdown",
      "metadata": {
        "id": "view-in-github",
        "colab_type": "text"
      },
      "source": [
        "<a href=\"https://colab.research.google.com/github/seawavve/daconNewsTopicClassification/blob/main/KoBERT/model.ipynb\" target=\"_parent\"><img src=\"https://colab.research.google.com/assets/colab-badge.svg\" alt=\"Open In Colab\"/></a>"
      ]
    },
    {
      "cell_type": "markdown",
      "metadata": {
        "id": "swz1zHIWv3mk"
      },
      "source": [
        "# 환경설정 "
      ]
    },
    {
      "cell_type": "code",
      "metadata": {
        "id": "6ZrbZC9vJULc",
        "colab": {
          "base_uri": "https://localhost:8080/"
        },
        "outputId": "a3a92ba7-bc20-4d59-cf80-0739d93b7b1d"
      },
      "source": [
        "!pip install mxnet\n",
        "!pip install gluonnlp pandas tqdm\n",
        "!pip install sentencepiece\n",
        "!pip install transformers\n",
        "!pip install torch"
      ],
      "execution_count": 1,
      "outputs": [
        {
          "output_type": "stream",
          "text": [
            "Collecting mxnet\n",
            "\u001b[?25l  Downloading https://files.pythonhosted.org/packages/30/07/66174e78c12a3048db9039aaa09553e35035ef3a008ba3e0ed8d2aa3c47b/mxnet-1.8.0.post0-py2.py3-none-manylinux2014_x86_64.whl (46.9MB)\n",
            "\u001b[K     |████████████████████████████████| 46.9MB 63kB/s \n",
            "\u001b[?25hCollecting graphviz<0.9.0,>=0.8.1\n",
            "  Downloading https://files.pythonhosted.org/packages/53/39/4ab213673844e0c004bed8a0781a0721a3f6bb23eb8854ee75c236428892/graphviz-0.8.4-py2.py3-none-any.whl\n",
            "Requirement already satisfied: numpy<2.0.0,>1.16.0 in /usr/local/lib/python3.7/dist-packages (from mxnet) (1.19.5)\n",
            "Requirement already satisfied: requests<3,>=2.20.0 in /usr/local/lib/python3.7/dist-packages (from mxnet) (2.23.0)\n",
            "Requirement already satisfied: idna<3,>=2.5 in /usr/local/lib/python3.7/dist-packages (from requests<3,>=2.20.0->mxnet) (2.10)\n",
            "Requirement already satisfied: certifi>=2017.4.17 in /usr/local/lib/python3.7/dist-packages (from requests<3,>=2.20.0->mxnet) (2021.5.30)\n",
            "Requirement already satisfied: chardet<4,>=3.0.2 in /usr/local/lib/python3.7/dist-packages (from requests<3,>=2.20.0->mxnet) (3.0.4)\n",
            "Requirement already satisfied: urllib3!=1.25.0,!=1.25.1,<1.26,>=1.21.1 in /usr/local/lib/python3.7/dist-packages (from requests<3,>=2.20.0->mxnet) (1.24.3)\n",
            "Installing collected packages: graphviz, mxnet\n",
            "  Found existing installation: graphviz 0.10.1\n",
            "    Uninstalling graphviz-0.10.1:\n",
            "      Successfully uninstalled graphviz-0.10.1\n",
            "Successfully installed graphviz-0.8.4 mxnet-1.8.0.post0\n",
            "Collecting gluonnlp\n",
            "\u001b[?25l  Downloading https://files.pythonhosted.org/packages/9c/81/a238e47ccba0d7a61dcef4e0b4a7fd4473cb86bed3d84dd4fe28d45a0905/gluonnlp-0.10.0.tar.gz (344kB)\n",
            "\u001b[K     |████████████████████████████████| 348kB 36.3MB/s \n",
            "\u001b[?25hRequirement already satisfied: pandas in /usr/local/lib/python3.7/dist-packages (1.1.5)\n",
            "Requirement already satisfied: tqdm in /usr/local/lib/python3.7/dist-packages (4.41.1)\n",
            "Requirement already satisfied: numpy>=1.16.0 in /usr/local/lib/python3.7/dist-packages (from gluonnlp) (1.19.5)\n",
            "Requirement already satisfied: cython in /usr/local/lib/python3.7/dist-packages (from gluonnlp) (0.29.23)\n",
            "Requirement already satisfied: packaging in /usr/local/lib/python3.7/dist-packages (from gluonnlp) (21.0)\n",
            "Requirement already satisfied: python-dateutil>=2.7.3 in /usr/local/lib/python3.7/dist-packages (from pandas) (2.8.1)\n",
            "Requirement already satisfied: pytz>=2017.2 in /usr/local/lib/python3.7/dist-packages (from pandas) (2018.9)\n",
            "Requirement already satisfied: pyparsing>=2.0.2 in /usr/local/lib/python3.7/dist-packages (from packaging->gluonnlp) (2.4.7)\n",
            "Requirement already satisfied: six>=1.5 in /usr/local/lib/python3.7/dist-packages (from python-dateutil>=2.7.3->pandas) (1.15.0)\n",
            "Building wheels for collected packages: gluonnlp\n",
            "  Building wheel for gluonnlp (setup.py) ... \u001b[?25l\u001b[?25hdone\n",
            "  Created wheel for gluonnlp: filename=gluonnlp-0.10.0-cp37-cp37m-linux_x86_64.whl size=595708 sha256=7e25dd1cb714758b0b061032092d8f5b38554a3705204ffad685c3f5b9283ba2\n",
            "  Stored in directory: /root/.cache/pip/wheels/37/65/52/63032864a0f31a08b9a88569f803b5bafac8abd207fd7f7534\n",
            "Successfully built gluonnlp\n",
            "Installing collected packages: gluonnlp\n",
            "Successfully installed gluonnlp-0.10.0\n",
            "Collecting sentencepiece\n",
            "\u001b[?25l  Downloading https://files.pythonhosted.org/packages/ac/aa/1437691b0c7c83086ebb79ce2da16e00bef024f24fec2a5161c35476f499/sentencepiece-0.1.96-cp37-cp37m-manylinux_2_17_x86_64.manylinux2014_x86_64.whl (1.2MB)\n",
            "\u001b[K     |████████████████████████████████| 1.2MB 35.6MB/s \n",
            "\u001b[?25hInstalling collected packages: sentencepiece\n",
            "Successfully installed sentencepiece-0.1.96\n",
            "Collecting transformers\n",
            "\u001b[?25l  Downloading https://files.pythonhosted.org/packages/fd/1a/41c644c963249fd7f3836d926afa1e3f1cc234a1c40d80c5f03ad8f6f1b2/transformers-4.8.2-py3-none-any.whl (2.5MB)\n",
            "\u001b[K     |████████████████████████████████| 2.5MB 34.5MB/s \n",
            "\u001b[?25hRequirement already satisfied: numpy>=1.17 in /usr/local/lib/python3.7/dist-packages (from transformers) (1.19.5)\n",
            "Requirement already satisfied: packaging in /usr/local/lib/python3.7/dist-packages (from transformers) (21.0)\n",
            "Requirement already satisfied: tqdm>=4.27 in /usr/local/lib/python3.7/dist-packages (from transformers) (4.41.1)\n",
            "Requirement already satisfied: importlib-metadata; python_version < \"3.8\" in /usr/local/lib/python3.7/dist-packages (from transformers) (4.6.1)\n",
            "Requirement already satisfied: pyyaml in /usr/local/lib/python3.7/dist-packages (from transformers) (3.13)\n",
            "Collecting tokenizers<0.11,>=0.10.1\n",
            "\u001b[?25l  Downloading https://files.pythonhosted.org/packages/d4/e2/df3543e8ffdab68f5acc73f613de9c2b155ac47f162e725dcac87c521c11/tokenizers-0.10.3-cp37-cp37m-manylinux_2_5_x86_64.manylinux1_x86_64.manylinux_2_12_x86_64.manylinux2010_x86_64.whl (3.3MB)\n",
            "\u001b[K     |████████████████████████████████| 3.3MB 42.0MB/s \n",
            "\u001b[?25hRequirement already satisfied: regex!=2019.12.17 in /usr/local/lib/python3.7/dist-packages (from transformers) (2019.12.20)\n",
            "Requirement already satisfied: filelock in /usr/local/lib/python3.7/dist-packages (from transformers) (3.0.12)\n",
            "Collecting huggingface-hub==0.0.12\n",
            "  Downloading https://files.pythonhosted.org/packages/2f/ee/97e253668fda9b17e968b3f97b2f8e53aa0127e8807d24a547687423fe0b/huggingface_hub-0.0.12-py3-none-any.whl\n",
            "Collecting sacremoses\n",
            "\u001b[?25l  Downloading https://files.pythonhosted.org/packages/75/ee/67241dc87f266093c533a2d4d3d69438e57d7a90abb216fa076e7d475d4a/sacremoses-0.0.45-py3-none-any.whl (895kB)\n",
            "\u001b[K     |████████████████████████████████| 901kB 42.3MB/s \n",
            "\u001b[?25hRequirement already satisfied: requests in /usr/local/lib/python3.7/dist-packages (from transformers) (2.23.0)\n",
            "Requirement already satisfied: pyparsing>=2.0.2 in /usr/local/lib/python3.7/dist-packages (from packaging->transformers) (2.4.7)\n",
            "Requirement already satisfied: zipp>=0.5 in /usr/local/lib/python3.7/dist-packages (from importlib-metadata; python_version < \"3.8\"->transformers) (3.5.0)\n",
            "Requirement already satisfied: typing-extensions>=3.6.4; python_version < \"3.8\" in /usr/local/lib/python3.7/dist-packages (from importlib-metadata; python_version < \"3.8\"->transformers) (3.7.4.3)\n",
            "Requirement already satisfied: click in /usr/local/lib/python3.7/dist-packages (from sacremoses->transformers) (7.1.2)\n",
            "Requirement already satisfied: joblib in /usr/local/lib/python3.7/dist-packages (from sacremoses->transformers) (1.0.1)\n",
            "Requirement already satisfied: six in /usr/local/lib/python3.7/dist-packages (from sacremoses->transformers) (1.15.0)\n",
            "Requirement already satisfied: chardet<4,>=3.0.2 in /usr/local/lib/python3.7/dist-packages (from requests->transformers) (3.0.4)\n",
            "Requirement already satisfied: urllib3!=1.25.0,!=1.25.1,<1.26,>=1.21.1 in /usr/local/lib/python3.7/dist-packages (from requests->transformers) (1.24.3)\n",
            "Requirement already satisfied: certifi>=2017.4.17 in /usr/local/lib/python3.7/dist-packages (from requests->transformers) (2021.5.30)\n",
            "Requirement already satisfied: idna<3,>=2.5 in /usr/local/lib/python3.7/dist-packages (from requests->transformers) (2.10)\n",
            "Installing collected packages: tokenizers, huggingface-hub, sacremoses, transformers\n",
            "Successfully installed huggingface-hub-0.0.12 sacremoses-0.0.45 tokenizers-0.10.3 transformers-4.8.2\n",
            "Requirement already satisfied: torch in /usr/local/lib/python3.7/dist-packages (1.9.0+cu102)\n",
            "Requirement already satisfied: typing-extensions in /usr/local/lib/python3.7/dist-packages (from torch) (3.7.4.3)\n"
          ],
          "name": "stdout"
        }
      ]
    },
    {
      "cell_type": "code",
      "metadata": {
        "id": "o-GJmMMPJULc",
        "colab": {
          "base_uri": "https://localhost:8080/"
        },
        "outputId": "b9c2d2f2-1050-4b32-c8f3-5d645083892a"
      },
      "source": [
        "!pip install git+https://git@github.com/SKTBrain/KoBERT.git@master\n",
        "!pip install transformers==3"
      ],
      "execution_count": 2,
      "outputs": [
        {
          "output_type": "stream",
          "text": [
            "Collecting git+https://****@github.com/SKTBrain/KoBERT.git@master\n",
            "  Cloning https://****@github.com/SKTBrain/KoBERT.git (to revision master) to /tmp/pip-req-build-bmwhcq53\n",
            "  Running command git clone -q 'https://****@github.com/SKTBrain/KoBERT.git' /tmp/pip-req-build-bmwhcq53\n",
            "Building wheels for collected packages: kobert\n",
            "  Building wheel for kobert (setup.py) ... \u001b[?25l\u001b[?25hdone\n",
            "  Created wheel for kobert: filename=kobert-0.1.2-cp37-none-any.whl size=12773 sha256=fe776f845421b93f0256babab2ba5f20106916210a17ef5eb69e52dde25c0c05\n",
            "  Stored in directory: /tmp/pip-ephem-wheel-cache-2_k6v31y/wheels/a2/b0/41/435ee4e918f91918be41529283c5ff86cd010f02e7525aecf3\n",
            "Successfully built kobert\n",
            "Installing collected packages: kobert\n",
            "Successfully installed kobert-0.1.2\n",
            "Collecting transformers==3\n",
            "\u001b[?25l  Downloading https://files.pythonhosted.org/packages/9c/35/1c3f6e62d81f5f0daff1384e6d5e6c5758682a8357ebc765ece2b9def62b/transformers-3.0.0-py3-none-any.whl (754kB)\n",
            "\u001b[K     |████████████████████████████████| 757kB 28.2MB/s \n",
            "\u001b[?25hRequirement already satisfied: filelock in /usr/local/lib/python3.7/dist-packages (from transformers==3) (3.0.12)\n",
            "Requirement already satisfied: tqdm>=4.27 in /usr/local/lib/python3.7/dist-packages (from transformers==3) (4.41.1)\n",
            "Requirement already satisfied: sacremoses in /usr/local/lib/python3.7/dist-packages (from transformers==3) (0.0.45)\n",
            "Requirement already satisfied: regex!=2019.12.17 in /usr/local/lib/python3.7/dist-packages (from transformers==3) (2019.12.20)\n",
            "Requirement already satisfied: requests in /usr/local/lib/python3.7/dist-packages (from transformers==3) (2.23.0)\n",
            "Requirement already satisfied: sentencepiece in /usr/local/lib/python3.7/dist-packages (from transformers==3) (0.1.96)\n",
            "Requirement already satisfied: numpy in /usr/local/lib/python3.7/dist-packages (from transformers==3) (1.19.5)\n",
            "Requirement already satisfied: packaging in /usr/local/lib/python3.7/dist-packages (from transformers==3) (21.0)\n",
            "Collecting tokenizers==0.8.0-rc4\n",
            "\u001b[?25l  Downloading https://files.pythonhosted.org/packages/f7/82/0e82a95bd9db2b32569500cc1bb47aa7c4e0f57aa5e35cceba414096917b/tokenizers-0.8.0rc4-cp37-cp37m-manylinux1_x86_64.whl (3.0MB)\n",
            "\u001b[K     |████████████████████████████████| 3.0MB 43.9MB/s \n",
            "\u001b[?25hRequirement already satisfied: click in /usr/local/lib/python3.7/dist-packages (from sacremoses->transformers==3) (7.1.2)\n",
            "Requirement already satisfied: joblib in /usr/local/lib/python3.7/dist-packages (from sacremoses->transformers==3) (1.0.1)\n",
            "Requirement already satisfied: six in /usr/local/lib/python3.7/dist-packages (from sacremoses->transformers==3) (1.15.0)\n",
            "Requirement already satisfied: idna<3,>=2.5 in /usr/local/lib/python3.7/dist-packages (from requests->transformers==3) (2.10)\n",
            "Requirement already satisfied: chardet<4,>=3.0.2 in /usr/local/lib/python3.7/dist-packages (from requests->transformers==3) (3.0.4)\n",
            "Requirement already satisfied: urllib3!=1.25.0,!=1.25.1,<1.26,>=1.21.1 in /usr/local/lib/python3.7/dist-packages (from requests->transformers==3) (1.24.3)\n",
            "Requirement already satisfied: certifi>=2017.4.17 in /usr/local/lib/python3.7/dist-packages (from requests->transformers==3) (2021.5.30)\n",
            "Requirement already satisfied: pyparsing>=2.0.2 in /usr/local/lib/python3.7/dist-packages (from packaging->transformers==3) (2.4.7)\n",
            "Installing collected packages: tokenizers, transformers\n",
            "  Found existing installation: tokenizers 0.10.3\n",
            "    Uninstalling tokenizers-0.10.3:\n",
            "      Successfully uninstalled tokenizers-0.10.3\n",
            "  Found existing installation: transformers 4.8.2\n",
            "    Uninstalling transformers-4.8.2:\n",
            "      Successfully uninstalled transformers-4.8.2\n",
            "Successfully installed tokenizers-0.8.0rc4 transformers-3.0.0\n"
          ],
          "name": "stdout"
        }
      ]
    },
    {
      "cell_type": "code",
      "metadata": {
        "id": "P1MKMgHtJULd"
      },
      "source": [
        "import torch\n",
        "from torch import nn\n",
        "import torch.nn.functional as F\n",
        "import torch.optim as optim\n",
        "from torch.utils.data import Dataset, DataLoader\n",
        "import gluonnlp as nlp\n",
        "import numpy as np\n",
        "from tqdm import tqdm, tqdm_notebook"
      ],
      "execution_count": 3,
      "outputs": []
    },
    {
      "cell_type": "code",
      "metadata": {
        "id": "cXnDQiZgJULd"
      },
      "source": [
        "from kobert.utils import get_tokenizer\n",
        "from kobert.pytorch_kobert import get_pytorch_kobert_model"
      ],
      "execution_count": 4,
      "outputs": []
    },
    {
      "cell_type": "code",
      "metadata": {
        "id": "WSLNltxXJULd"
      },
      "source": [
        "from transformers import AdamW\n",
        "from transformers.optimization import get_cosine_schedule_with_warmup"
      ],
      "execution_count": 5,
      "outputs": []
    },
    {
      "cell_type": "markdown",
      "metadata": {
        "id": "gGWZb5Zyv97m"
      },
      "source": [
        "# 모델"
      ]
    },
    {
      "cell_type": "code",
      "metadata": {
        "id": "0vVQ2Y5oJULd"
      },
      "source": [
        "##GPU 사용 시\n",
        "device = torch.device(\"cuda:0\")"
      ],
      "execution_count": 6,
      "outputs": []
    },
    {
      "cell_type": "code",
      "metadata": {
        "id": "6aMm8cxLJULe",
        "colab": {
          "base_uri": "https://localhost:8080/"
        },
        "outputId": "9dd4dfa7-8aa2-4498-e8af-be85c0ab6fe4"
      },
      "source": [
        "bertmodel, vocab = get_pytorch_kobert_model()"
      ],
      "execution_count": 7,
      "outputs": [
        {
          "output_type": "stream",
          "text": [
            "[██████████████████████████████████████████████████]\n",
            "[██████████████████████████████████████████████████]\n"
          ],
          "name": "stdout"
        }
      ]
    },
    {
      "cell_type": "code",
      "metadata": {
        "id": "Ktz9FSItJULf"
      },
      "source": [
        "dataset_train = nlp.data.TSVDataset(\"augumented_train_data.tsv\", field_indices=[1,2], num_discard_samples=1)\n",
        "dataset_test = nlp.data.TSVDataset(\"test_data.tsv\", field_indices=[1,2], num_discard_samples=1)"
      ],
      "execution_count": 8,
      "outputs": []
    },
    {
      "cell_type": "code",
      "metadata": {
        "id": "XmFt1aWmJULf",
        "colab": {
          "base_uri": "https://localhost:8080/"
        },
        "outputId": "fce58925-239c-4029-f033-f17c1517bc65"
      },
      "source": [
        "tokenizer = get_tokenizer()\n",
        "tok = nlp.data.BERTSPTokenizer(tokenizer, vocab, lower=False)"
      ],
      "execution_count": 9,
      "outputs": [
        {
          "output_type": "stream",
          "text": [
            "using cached model\n"
          ],
          "name": "stdout"
        }
      ]
    },
    {
      "cell_type": "code",
      "metadata": {
        "id": "facnopWIJULg"
      },
      "source": [
        "class BERTDataset(Dataset):\n",
        "    def __init__(self, dataset, sent_idx, label_idx, bert_tokenizer, max_len,\n",
        "                 pad, pair):\n",
        "        transform = nlp.data.BERTSentenceTransform(\n",
        "            bert_tokenizer, max_seq_length=max_len, pad=pad, pair=pair)\n",
        "\n",
        "        self.sentences = [transform([i[sent_idx]]) for i in dataset]\n",
        "        self.labels = [np.int32(i[label_idx]) for i in dataset]\n",
        "\n",
        "    def __getitem__(self, i):\n",
        "        return (self.sentences[i] + (self.labels[i], ))\n",
        "\n",
        "    def __len__(self):\n",
        "        return (len(self.labels))\n"
      ],
      "execution_count": 10,
      "outputs": []
    },
    {
      "cell_type": "code",
      "metadata": {
        "id": "FihW1qRhJULg"
      },
      "source": [
        "## Setting parameters\n",
        "max_len = 64\n",
        "batch_size = 32\n",
        "warmup_ratio = 0.1\n",
        "num_epochs = 1\n",
        "max_grad_norm = 1\n",
        "log_interval = 200\n",
        "learning_rate =  5e-5"
      ],
      "execution_count": 11,
      "outputs": []
    },
    {
      "cell_type": "code",
      "metadata": {
        "id": "jYELh9XWJULg"
      },
      "source": [
        "data_train = BERTDataset(dataset_train, 0, 1, tok, max_len, True, False)\n",
        "data_test = BERTDataset(dataset_test, 0, 1, tok, max_len, True, False)"
      ],
      "execution_count": 12,
      "outputs": []
    },
    {
      "cell_type": "code",
      "metadata": {
        "id": "8pOHWAP9JULg",
        "colab": {
          "base_uri": "https://localhost:8080/"
        },
        "outputId": "1102bfbc-e2d6-4f7d-c8e1-8f089f4ec8dd"
      },
      "source": [
        "train_dataloader = torch.utils.data.DataLoader(data_train, batch_size=batch_size, num_workers=5)\n",
        "test_dataloader = torch.utils.data.DataLoader(data_test, batch_size=batch_size, num_workers=5)"
      ],
      "execution_count": 13,
      "outputs": [
        {
          "output_type": "stream",
          "text": [
            "/usr/local/lib/python3.7/dist-packages/torch/utils/data/dataloader.py:481: UserWarning: This DataLoader will create 5 worker processes in total. Our suggested max number of worker in current system is 2, which is smaller than what this DataLoader is going to create. Please be aware that excessive worker creation might get DataLoader running slow or even freeze, lower the worker number to avoid potential slowness/freeze if necessary.\n",
            "  cpuset_checked))\n"
          ],
          "name": "stderr"
        }
      ]
    },
    {
      "cell_type": "code",
      "metadata": {
        "id": "AdOufYuAJULh"
      },
      "source": [
        "class BERTClassifier(nn.Module):\n",
        "    def __init__(self,\n",
        "                 bert,\n",
        "                 hidden_size = 768,\n",
        "                 num_classes=7,\n",
        "                 dr_rate=None,\n",
        "                 params=None):\n",
        "        super(BERTClassifier, self).__init__()\n",
        "        self.bert = bert\n",
        "        self.dr_rate = dr_rate\n",
        "                 \n",
        "        self.classifier = nn.Linear(hidden_size , num_classes)\n",
        "        if dr_rate:\n",
        "            self.dropout = nn.Dropout(p=dr_rate)\n",
        "    \n",
        "    def gen_attention_mask(self, token_ids, valid_length):\n",
        "        attention_mask = torch.zeros_like(token_ids)\n",
        "        for i, v in enumerate(valid_length):\n",
        "            attention_mask[i][:v] = 1\n",
        "        return attention_mask.float()\n",
        "\n",
        "    def forward(self, token_ids, valid_length, segment_ids):\n",
        "        attention_mask = self.gen_attention_mask(token_ids, valid_length)\n",
        "        \n",
        "        _, pooler = self.bert(input_ids = token_ids, token_type_ids = segment_ids.long(), attention_mask = attention_mask.float().to(token_ids.device))\n",
        "        if self.dr_rate:\n",
        "            out = self.dropout(pooler)\n",
        "        return self.classifier(out)"
      ],
      "execution_count": 14,
      "outputs": []
    },
    {
      "cell_type": "code",
      "metadata": {
        "id": "zqAJazzdJULh"
      },
      "source": [
        "model = BERTClassifier(bertmodel,  dr_rate=0.5).to(device)"
      ],
      "execution_count": 15,
      "outputs": []
    },
    {
      "cell_type": "code",
      "metadata": {
        "id": "xnMI20I3JULh"
      },
      "source": [
        "# Prepare optimizer and schedule (linear warmup and decay)\n",
        "no_decay = ['bias', 'LayerNorm.weight']\n",
        "optimizer_grouped_parameters = [\n",
        "    {'params': [p for n, p in model.named_parameters() if not any(nd in n for nd in no_decay)], 'weight_decay': 0.01},\n",
        "    {'params': [p for n, p in model.named_parameters() if any(nd in n for nd in no_decay)], 'weight_decay': 0.0}\n",
        "]"
      ],
      "execution_count": 16,
      "outputs": []
    },
    {
      "cell_type": "code",
      "metadata": {
        "id": "GBTt_ZLGJULh"
      },
      "source": [
        "optimizer = AdamW(optimizer_grouped_parameters, lr=learning_rate)\n",
        "loss_fn = nn.CrossEntropyLoss()"
      ],
      "execution_count": 17,
      "outputs": []
    },
    {
      "cell_type": "code",
      "metadata": {
        "id": "6Xz5XVDVJULh"
      },
      "source": [
        "t_total = len(train_dataloader) * num_epochs\n",
        "warmup_step = int(t_total * warmup_ratio)"
      ],
      "execution_count": 18,
      "outputs": []
    },
    {
      "cell_type": "code",
      "metadata": {
        "id": "KasBRIBWJULh"
      },
      "source": [
        "scheduler = get_cosine_schedule_with_warmup(optimizer, num_warmup_steps=warmup_step, num_training_steps=t_total)"
      ],
      "execution_count": 19,
      "outputs": []
    },
    {
      "cell_type": "code",
      "metadata": {
        "id": "ON4fMFSQJULh"
      },
      "source": [
        "def calc_accuracy(X,Y):\n",
        "    max_vals, max_indices = torch.max(X, 1)\n",
        "    train_acc = (max_indices == Y).sum().data.cpu().numpy()/max_indices.size()[0]\n",
        "    return train_acc"
      ],
      "execution_count": 20,
      "outputs": []
    },
    {
      "cell_type": "code",
      "metadata": {
        "id": "uaq7is6UJULh",
        "colab": {
          "base_uri": "https://localhost:8080/",
          "height": 1000,
          "referenced_widgets": [
            "b1fa284352f74c28b11e012c00de63dd",
            "b15b1ddab55c4383b5842023cd0e39dd",
            "9da896890ede419887e3b43113d80a61",
            "cf59995fcbf84f51933ead44b9d34603",
            "fb40daf3355a4704b9587af45bc72630",
            "34def511ef6f40f4a08acb74b4d23dc7",
            "cdf8c6880db54a0c9bd66b6dfa21123a",
            "f043bdf1d5794572807a9e0b4b923bc2",
            "674554a08f7c4cd1841f2448c0605314",
            "5fa94a85266a4170a1430473536e05bb",
            "0d73e8f8df32477e9b3a70e34c25fc87",
            "ad302f56cd7144e4840ce37feef55da9",
            "8bbf40b2cd6743f38a89e804197c6e89",
            "830cd853422b4d0a964f76a3d6c4e931",
            "39c77ae985bd411790dc8799a5cce0af",
            "37b9a6c413524cd7a5563493062d09f4"
          ]
        },
        "outputId": "8050d5cb-1729-44da-d23b-b898e1529c0a"
      },
      "source": [
        "import pandas as pd\n",
        "#학습\n",
        "\n",
        "for e in range(num_epochs):\n",
        "    train_acc = 0.0\n",
        "    test_acc = 0.0\n",
        "    model.train()\n",
        "    for batch_id, (token_ids, valid_length, segment_ids, label) in enumerate(tqdm_notebook(train_dataloader)):\n",
        "        optimizer.zero_grad()\n",
        "        token_ids = token_ids.long().to(device)\n",
        "        segment_ids = segment_ids.long().to(device)\n",
        "        valid_length= valid_length\n",
        "        label = label.long().to(device)\n",
        "        out = model(token_ids, valid_length, segment_ids)\n",
        "        loss = loss_fn(out, label)\n",
        "        loss.backward()\n",
        "        torch.nn.utils.clip_grad_norm_(model.parameters(), max_grad_norm)\n",
        "        optimizer.step()\n",
        "        scheduler.step()  # Update learning rate schedule\n",
        "        train_acc += calc_accuracy(out, label)\n",
        "        if batch_id % log_interval == 0:\n",
        "            print(\"epoch {} batch id {} loss {} train acc {}\".format(e+1, batch_id+1, loss.data.cpu().numpy(), train_acc / (batch_id+1)))\n",
        "    print(\"epoch {} train acc {}\".format(e+1, train_acc / (batch_id+1)))\n",
        "\n",
        "model.eval()\n",
        "test_eval=[]\n",
        "for batch_id, (token_ids, valid_length, segment_ids, label) in enumerate(tqdm_notebook(test_dataloader)):\n",
        "    token_ids = token_ids.long().to(device)\n",
        "    segment_ids = segment_ids.long().to(device)\n",
        "    valid_length= valid_length\n",
        "    label = label.long().to(device)\n",
        "    out = model(token_ids, valid_length, segment_ids)\n",
        "    test_acc += calc_accuracy(out, label)\n",
        "\n",
        "    \n",
        "    for i in out:\n",
        "        logits=i\n",
        "        logits = logits.detach().cpu().numpy()\n",
        "        test_eval.append(np.argmax(logits))\n",
        "\n",
        "print(\"test acc {}\".format(test_acc / (batch_id+1)))\n",
        "\n",
        "#결과물 출력\n",
        "result=pd.DataFrame( test_eval, columns=['topic_idx'] )\n",
        "result['index']=range(45654,45654+len(result))\n",
        "result.set_index('index',inplace=True)\n",
        "result.to_csv('result.csv')\n",
        "display(result)\n",
        "\n"
      ],
      "execution_count": 24,
      "outputs": [
        {
          "output_type": "stream",
          "text": [
            "/usr/local/lib/python3.7/dist-packages/ipykernel_launcher.py:8: TqdmDeprecationWarning: This function will be removed in tqdm==5.0.0\n",
            "Please use `tqdm.notebook.tqdm` instead of `tqdm.tqdm_notebook`\n",
            "  \n"
          ],
          "name": "stderr"
        },
        {
          "output_type": "display_data",
          "data": {
            "application/vnd.jupyter.widget-view+json": {
              "model_id": "b1fa284352f74c28b11e012c00de63dd",
              "version_minor": 0,
              "version_major": 2
            },
            "text/plain": [
              "HBox(children=(FloatProgress(value=0.0, max=4281.0), HTML(value='')))"
            ]
          },
          "metadata": {
            "tags": []
          }
        },
        {
          "output_type": "stream",
          "text": [
            "/usr/local/lib/python3.7/dist-packages/torch/utils/data/dataloader.py:481: UserWarning: This DataLoader will create 5 worker processes in total. Our suggested max number of worker in current system is 2, which is smaller than what this DataLoader is going to create. Please be aware that excessive worker creation might get DataLoader running slow or even freeze, lower the worker number to avoid potential slowness/freeze if necessary.\n",
            "  cpuset_checked))\n"
          ],
          "name": "stderr"
        },
        {
          "output_type": "stream",
          "text": [
            "epoch 1 batch id 1 loss 0.8471066355705261 train acc 0.90625\n",
            "epoch 1 batch id 201 loss 0.1830729842185974 train acc 0.8572761194029851\n",
            "epoch 1 batch id 401 loss 0.3638543486595154 train acc 0.8241895261845387\n",
            "epoch 1 batch id 601 loss 1.1864124536514282 train acc 0.8217034109816972\n",
            "epoch 1 batch id 801 loss 0.18042202293872833 train acc 0.8188202247191011\n",
            "epoch 1 batch id 1001 loss 0.08937229216098785 train acc 0.8187125374625375\n",
            "epoch 1 batch id 1201 loss 0.7659265398979187 train acc 0.819291215653622\n",
            "epoch 1 batch id 1401 loss 0.7158663868904114 train acc 0.8189685938615274\n",
            "epoch 1 batch id 1601 loss 0.6756985187530518 train acc 0.8213616489693941\n",
            "epoch 1 batch id 1801 loss 0.6198076605796814 train acc 0.8222862298722932\n",
            "epoch 1 batch id 2001 loss 0.8605735301971436 train acc 0.8231821589205397\n",
            "epoch 1 batch id 2201 loss 0.8747267723083496 train acc 0.8242418218991368\n",
            "epoch 1 batch id 2401 loss 0.3346652388572693 train acc 0.8261791961682632\n",
            "epoch 1 batch id 2601 loss 0.16923104226589203 train acc 0.8295607458669743\n",
            "epoch 1 batch id 2801 loss 0.04033168777823448 train acc 0.8388410389146733\n",
            "epoch 1 batch id 3001 loss 0.021324753761291504 train acc 0.8472071809396867\n",
            "epoch 1 batch id 3201 loss 0.043947357684373856 train acc 0.854605982505467\n",
            "epoch 1 batch id 3401 loss 0.015262222848832607 train acc 0.860932446339312\n",
            "epoch 1 batch id 3601 loss 0.7404938340187073 train acc 0.8609761177450708\n",
            "epoch 1 batch id 3801 loss 0.2913350760936737 train acc 0.859839515916864\n",
            "epoch 1 batch id 4001 loss 0.3983103334903717 train acc 0.8595116845788553\n",
            "epoch 1 batch id 4201 loss 0.058906782418489456 train acc 0.8606284218043323\n",
            "\n",
            "epoch 1 train acc 0.8621087362765709\n"
          ],
          "name": "stdout"
        },
        {
          "output_type": "stream",
          "text": [
            "/usr/local/lib/python3.7/dist-packages/ipykernel_launcher.py:27: TqdmDeprecationWarning: This function will be removed in tqdm==5.0.0\n",
            "Please use `tqdm.notebook.tqdm` instead of `tqdm.tqdm_notebook`\n"
          ],
          "name": "stderr"
        },
        {
          "output_type": "display_data",
          "data": {
            "application/vnd.jupyter.widget-view+json": {
              "model_id": "674554a08f7c4cd1841f2448c0605314",
              "version_minor": 0,
              "version_major": 2
            },
            "text/plain": [
              "HBox(children=(FloatProgress(value=0.0, max=286.0), HTML(value='')))"
            ]
          },
          "metadata": {
            "tags": []
          }
        },
        {
          "output_type": "stream",
          "text": [
            "\n",
            "test acc 0.11941751430387795\n",
            "[0, 3, 2, 2, 3, 0, 5, 3, 4, 4, 4, 6, 4, 5, 6, 1, 6, 2, 4, 4, 4, 4, 0, 0, 0, 3, 6, 2, 5, 2, 3, 4, 4, 5, 4, 4, 5, 4, 6, 5, 5, 5, 5, 3, 0, 5, 3, 6, 1, 6, 0, 4, 6, 4, 5, 1, 4, 6, 3, 3, 4, 4, 4, 5, 3, 1, 5, 5, 2, 0, 3, 4, 3, 3, 1, 5, 1, 1, 1, 2, 6, 1, 5, 4, 6, 5, 4, 1, 6, 1, 5, 5, 4, 4, 4, 1, 6, 4, 1, 1, 5, 5, 4, 4, 5, 4, 3, 4, 0, 3, 2, 2, 2, 4, 3, 5, 3, 6, 2, 4, 5, 0, 6, 0, 2, 1, 5, 4, 0, 4, 0, 2, 6, 6, 4, 2, 6, 6, 1, 0, 5, 2, 3, 3, 4, 4, 1, 2, 3, 2, 6, 2, 1, 6, 4, 3, 5, 2, 2, 6, 1, 2, 3, 5, 5, 3, 4, 1, 1, 4, 1, 2, 2, 1, 3, 4, 2, 3, 6, 2, 5, 1, 5, 1, 5, 1, 2, 0, 3, 5, 2, 6, 0, 4, 2, 2, 6, 1, 3, 0, 1, 5, 4, 6, 5, 3, 5, 5, 5, 0, 1, 1, 3, 0, 1, 0, 4, 0, 6, 4, 4, 3, 5, 1, 0, 5, 0, 3, 4, 4, 6, 6, 3, 6, 4, 4, 5, 2, 2, 1, 5, 5, 1, 4, 0, 4, 5, 4, 6, 4, 4, 5, 1, 5, 5, 4, 5, 4, 2, 4, 5, 4, 0, 3, 3, 2, 0, 4, 5, 5, 4, 4, 0, 3, 6, 0, 3, 6, 5, 4, 6, 4, 4, 4, 4, 6, 3, 2, 3, 2, 2, 2, 5, 4, 5, 6, 4, 2, 2, 1, 6, 6, 0, 4, 6, 6, 3, 2, 1, 6, 5, 2, 5, 1, 0, 0, 3, 5, 2, 6, 5, 4, 1, 2, 6, 2, 1, 0, 4, 5, 0, 2, 4, 1, 6, 1, 0, 1, 4, 3, 3, 5, 1, 3, 3, 1, 4, 1, 4, 1, 1, 4, 4, 4, 0, 3, 5, 3, 2, 4, 2, 0, 4, 1, 4, 0, 0, 2, 6, 5, 0, 0, 6, 2, 6, 3, 2, 6, 5, 4, 4, 1, 3, 6, 2, 0, 0, 3, 5, 4, 3, 4, 0, 4, 4, 6, 5, 0, 6, 5, 4, 6, 3, 4, 5, 4, 4, 6, 0, 5, 5, 2, 5, 2, 4, 6, 5, 1, 5, 3, 5, 5, 4, 6, 6, 6, 6, 5, 4, 1, 6, 1, 4, 3, 5, 4, 5, 6, 6, 6, 0, 1, 5, 3, 6, 2, 3, 0, 3, 6, 1, 2, 1, 1, 4, 1, 5, 0, 2, 3, 5, 1, 3, 1, 1, 6, 1, 5, 6, 0, 1, 2, 3, 5, 5, 4, 5, 2, 0, 2, 5, 3, 1, 6, 6, 4, 4, 6, 2, 5, 4, 2, 2, 3, 2, 6, 6, 4, 6, 6, 4, 0, 5, 1, 2, 2, 2, 0, 0, 2, 1, 0, 6, 3, 2, 0, 1, 2, 6, 2, 4, 1, 1, 0, 6, 2, 6, 6, 2, 3, 1, 1, 1, 5, 4, 6, 0, 5, 6, 1, 1, 6, 6, 0, 4, 0, 1, 5, 6, 5, 6, 5, 1, 6, 1, 6, 6, 5, 2, 5, 1, 6, 6, 5, 0, 5, 2, 4, 1, 2, 4, 1, 6, 6, 1, 1, 2, 5, 4, 1, 4, 5, 3, 2, 3, 5, 6, 6, 5, 0, 3, 1, 4, 4, 6, 2, 4, 6, 4, 6, 0, 1, 5, 0, 4, 4, 4, 1, 2, 1, 2, 5, 0, 3, 6, 1, 1, 4, 4, 4, 6, 5, 6, 4, 1, 3, 4, 5, 0, 5, 6, 4, 6, 4, 5, 5, 4, 6, 2, 3, 6, 0, 2, 1, 4, 1, 3, 6, 1, 1, 4, 4, 1, 3, 5, 4, 0, 5, 5, 1, 4, 5, 2, 4, 0, 2, 0, 3, 4, 2, 0, 6, 4, 0, 6, 6, 2, 5, 4, 5, 2, 0, 5, 1, 6, 1, 4, 3, 0, 5, 4, 4, 5, 4, 3, 0, 4, 0, 5, 2, 3, 6, 5, 6, 6, 0, 3, 6, 4, 3, 2, 6, 3, 1, 3, 1, 2, 5, 5, 6, 6, 0, 4, 4, 1, 0, 6, 4, 6, 6, 4, 6, 4, 5, 2, 5, 0, 5, 6, 2, 0, 2, 4, 5, 5, 6, 6, 6, 0, 3, 3, 1, 0, 5, 5, 6, 6, 6, 4, 4, 4, 5, 0, 0, 3, 0, 4, 3, 1, 6, 3, 4, 1, 3, 6, 1, 3, 6, 1, 3, 4, 3, 6, 3, 3, 5, 5, 2, 4, 0, 4, 1, 1, 6, 6, 4, 2, 4, 6, 0, 4, 5, 4, 6, 6, 6, 1, 4, 5, 5, 5, 0, 3, 3, 2, 6, 3, 4, 2, 3, 5, 2, 2, 0, 6, 6, 2, 4, 2, 1, 0, 3, 5, 5, 0, 4, 4, 2, 0, 4, 6, 4, 3, 3, 5, 2, 5, 0, 6, 4, 6, 6, 2, 3, 4, 0, 4, 3, 1, 1, 1, 4, 1, 3, 1, 2, 4, 1, 1, 2, 3, 4, 0, 0, 4, 6, 0, 2, 3, 2, 1, 5, 1, 0, 6, 3, 0, 4, 0, 0, 3, 0, 2, 6, 1, 6, 2, 5, 4, 1, 0, 4, 4, 6, 5, 5, 1, 3, 6, 1, 6, 5, 2, 5, 6, 1, 4, 3, 0, 2, 0, 1, 2, 6, 0, 5, 5, 1, 5, 5, 6, 5, 6, 5, 0, 3, 4, 1, 0, 4, 3, 4, 4, 1, 4, 5, 6, 4, 3, 2, 0, 4, 2, 3, 6, 2, 2, 3, 4, 0, 6, 6, 5, 0, 0, 3, 1, 4, 6, 5, 4, 1, 5, 5, 3, 6, 2, 5, 6, 3, 6, 2, 3, 4, 2, 4, 5, 0, 1, 5, 1, 0, 6, 3, 4, 4, 1, 5, 6, 0, 2, 1, 0, 6, 2, 6, 6, 5, 5, 5, 0, 2, 5, 4, 4, 6, 1, 5, 3, 3, 5, 4, 4, 3, 6, 4, 6, 0, 6, 1, 5, 4, 5, 0, 2, 2, 6, 6, 6, 1, 0, 0, 6, 4, 3, 4, 5, 4, 4, 6, 3, 5, 6, 6, 5, 2, 2, 5, 5, 6, 2, 5, 0, 4, 6, 6, 3, 2, 6, 5, 5, 1, 5, 1, 6, 1, 3, 3, 2, 4, 4, 4, 4, 2, 2, 2, 6, 0, 6, 0, 2, 0, 2, 4, 4, 2, 6, 4, 3, 5, 1, 3, 4, 6, 6, 2, 3, 5, 6, 4, 5, 4, 0, 2, 6, 5, 4, 1, 6, 2, 6, 5, 5, 6, 4, 3, 6, 4, 4, 6, 5, 0, 1, 3, 4, 4, 0, 4, 4, 5, 4, 1, 6, 6, 4, 4, 1, 0, 1, 4, 3, 2, 6, 2, 5, 0, 6, 1, 3, 5, 6, 4, 5, 0, 4, 5, 4, 5, 2, 2, 4, 3, 4, 2, 4, 2, 5, 6, 5, 0, 6, 6, 4, 1, 5, 5, 4, 5, 6, 4, 5, 4, 3, 6, 1, 4, 6, 2, 1, 6, 5, 4, 1, 6, 3, 1, 4, 1, 6, 4, 1, 5, 0, 1, 6, 5, 0, 5, 6, 4, 0, 6, 2, 3, 5, 4, 4, 4, 1, 4, 3, 3, 5, 6, 1, 6, 2, 1, 4, 2, 2, 5, 2, 2, 4, 5, 5, 3, 6, 2, 2, 1, 4, 3, 1, 2, 6, 6, 6, 6, 5, 4, 3, 3, 5, 5, 6, 1, 1, 1, 6, 5, 3, 0, 1, 1, 4, 4, 0, 5, 0, 3, 5, 0, 4, 1, 4, 5, 3, 5, 3, 4, 1, 1, 3, 3, 3, 3, 4, 0, 2, 1, 1, 0, 4, 1, 5, 5, 0, 5, 0, 3, 4, 4, 4, 4, 5, 0, 0, 2, 0, 5, 2, 4, 4, 4, 2, 5, 1, 1, 5, 2, 4, 3, 1, 2, 1, 3, 3, 3, 2, 2, 5, 6, 4, 6, 2, 4, 4, 1, 1, 4, 6, 2, 5, 0, 2, 2, 5, 0, 4, 4, 0, 0, 1, 1, 4, 0, 0, 6, 0, 2, 0, 5, 6, 6, 4, 2, 0, 6, 6, 1, 5, 2, 4, 2, 0, 0, 1, 5, 0, 5, 2, 3, 5, 1, 0, 4, 5, 5, 4, 5, 4, 1, 4, 1, 5, 0, 4, 0, 1, 2, 0, 4, 6, 0, 4, 0, 6, 0, 6, 4, 5, 1, 6, 4, 4, 3, 6, 0, 5, 3, 6, 5, 5, 4, 4, 1, 1, 5, 3, 3, 3, 5, 1, 0, 1, 1, 1, 5, 1, 0, 2, 4, 0, 4, 6, 6, 6, 2, 5, 6, 2, 5, 0, 0, 4, 3, 3, 4, 5, 2, 4, 4, 4, 2, 4, 4, 6, 1, 4, 5, 3, 1, 6, 0, 1, 2, 5, 4, 4, 1, 4, 4, 6, 5, 4, 0, 1, 2, 4, 4, 1, 1, 0, 1, 4, 2, 6, 4, 1, 4, 5, 3, 3, 3, 1, 6, 4, 0, 3, 4, 6, 5, 6, 3, 5, 3, 6, 3, 4, 2, 6, 5, 5, 3, 3, 3, 6, 4, 2, 4, 4, 5, 4, 6, 1, 1, 5, 6, 6, 2, 5, 3, 2, 4, 4, 4, 5, 5, 4, 0, 2, 0, 4, 2, 4, 2, 5, 2, 6, 1, 2, 5, 3, 1, 4, 5, 0, 6, 6, 4, 1, 6, 0, 1, 4, 5, 5, 2, 6, 3, 0, 5, 5, 2, 6, 6, 1, 5, 2, 5, 6, 2, 5, 1, 6, 5, 4, 0, 1, 3, 0, 6, 1, 0, 5, 6, 1, 3, 1, 1, 2, 6, 0, 3, 2, 1, 2, 2, 4, 6, 6, 5, 4, 3, 2, 0, 2, 6, 0, 6, 0, 4, 0, 5, 6, 2, 5, 3, 0, 5, 6, 2, 5, 0, 1, 1, 5, 4, 4, 4, 5, 3, 6, 1, 1, 4, 1, 4, 0, 4, 0, 0, 5, 3, 2, 5, 0, 3, 0, 2, 1, 4, 4, 0, 1, 2, 6, 4, 4, 4, 5, 1, 3, 4, 5, 4, 2, 5, 4, 0, 6, 4, 0, 0, 5, 5, 0, 4, 3, 1, 1, 0, 6, 5, 5, 3, 4, 6, 3, 5, 0, 0, 2, 6, 6, 6, 2, 5, 1, 2, 0, 4, 2, 4, 5, 1, 0, 3, 4, 1, 0, 0, 1, 6, 0, 6, 2, 0, 1, 4, 1, 0, 6, 4, 5, 5, 3, 2, 4, 0, 0, 4, 6, 2, 3, 5, 6, 2, 2, 0, 5, 5, 4, 6, 6, 5, 4, 3, 1, 4, 5, 6, 5, 1, 6, 4, 1, 2, 6, 3, 3, 4, 5, 6, 4, 5, 1, 5, 4, 4, 6, 5, 6, 4, 1, 4, 2, 3, 4, 6, 4, 2, 6, 5, 4, 1, 0, 4, 2, 1, 6, 4, 2, 5, 6, 6, 3, 4, 3, 2, 5, 6, 6, 0, 3, 1, 6, 2, 5, 4, 4, 4, 5, 3, 2, 1, 0, 3, 5, 4, 4, 3, 5, 5, 4, 1, 3, 3, 5, 0, 5, 3, 5, 3, 1, 4, 1, 1, 4, 4, 5, 5, 5, 5, 4, 5, 1, 0, 5, 5, 2, 0, 4, 1, 4, 3, 0, 6, 2, 3, 6, 2, 4, 6, 4, 6, 0, 6, 1, 5, 2, 5, 3, 0, 6, 4, 0, 2, 2, 1, 2, 0, 6, 0, 3, 2, 4, 1, 0, 5, 6, 6, 6, 3, 5, 6, 5, 6, 5, 6, 6, 4, 2, 0, 2, 1, 1, 5, 2, 0, 2, 2, 6, 6, 4, 0, 2, 3, 4, 2, 0, 5, 6, 5, 2, 4, 4, 5, 0, 3, 4, 6, 6, 6, 4, 3, 4, 5, 6, 4, 6, 1, 2, 2, 1, 3, 2, 3, 5, 6, 5, 1, 4, 2, 2, 1, 2, 5, 4, 0, 5, 4, 0, 6, 5, 5, 4, 2, 1, 5, 0, 3, 4, 6, 2, 6, 0, 4, 5, 6, 5, 4, 0, 6, 2, 4, 0, 5, 2, 2, 6, 1, 1, 4, 4, 6, 2, 2, 4, 1, 4, 1, 2, 6, 6, 6, 6, 2, 6, 2, 5, 1, 4, 6, 2, 1, 6, 6, 4, 2, 0, 5, 0, 0, 4, 0, 6, 4, 0, 1, 1, 6, 4, 1, 4, 1, 3, 5, 5, 5, 5, 3, 4, 0, 3, 6, 4, 5, 6, 2, 5, 5, 2, 6, 6, 0, 5, 3, 1, 0, 5, 1, 6, 4, 2, 3, 4, 3, 5, 2, 4, 4, 3, 2, 6, 5, 3, 4, 6, 3, 4, 5, 2, 0, 2, 5, 1, 2, 6, 6, 4, 0, 6, 2, 2, 2, 0, 5, 4, 1, 3, 1, 5, 3, 0, 3, 4, 5, 2, 1, 6, 4, 5, 0, 6, 0, 5, 6, 5, 4, 5, 3, 0, 2, 6, 0, 4, 4, 5, 3, 4, 1, 0, 2, 5, 0, 5, 5, 5, 0, 4, 6, 3, 0, 5, 5, 5, 5, 2, 4, 3, 3, 3, 4, 6, 2, 2, 1, 2, 4, 5, 4, 3, 1, 2, 1, 2, 2, 1, 5, 4, 6, 0, 0, 4, 6, 4, 6, 3, 4, 1, 4, 4, 4, 1, 3, 2, 6, 4, 4, 6, 5, 1, 1, 6, 4, 1, 4, 4, 6, 4, 6, 4, 2, 6, 2, 4, 0, 6, 0, 0, 3, 6, 6, 1, 6, 4, 4, 3, 5, 5, 6, 1, 5, 5, 4, 4, 4, 4, 1, 0, 3, 2, 4, 1, 6, 4, 6, 2, 1, 5, 0, 0, 0, 5, 5, 3, 6, 5, 6, 2, 1, 4, 4, 4, 1, 6, 2, 0, 1, 3, 2, 6, 1, 3, 0, 0, 5, 2, 5, 2, 3, 0, 5, 4, 2, 0, 5, 1, 5, 5, 4, 4, 4, 2, 6, 4, 0, 1, 6, 5, 2, 2, 4, 5, 1, 3, 2, 5, 0, 3, 1, 6, 2, 0, 6, 6, 6, 4, 0, 4, 1, 6, 5, 1, 6, 2, 6, 1, 4, 6, 3, 4, 5, 4, 2, 2, 6, 4, 1, 1, 6, 0, 4, 4, 4, 2, 5, 1, 4, 4, 1, 3, 5, 6, 0, 1, 3, 5, 5, 6, 4, 3, 1, 2, 4, 5, 6, 0, 3, 0, 5, 4, 4, 1, 2, 4, 1, 5, 4, 6, 2, 6, 2, 4, 3, 6, 6, 6, 4, 1, 1, 5, 4, 2, 1, 1, 4, 4, 4, 2, 6, 0, 2, 4, 3, 4, 2, 1, 0, 1, 5, 6, 4, 5, 1, 3, 1, 2, 6, 6, 4, 6, 5, 4, 5, 5, 3, 1, 0, 5, 5, 6, 6, 4, 0, 6, 1, 4, 0, 2, 4, 4, 5, 6, 3, 4, 3, 5, 3, 6, 4, 1, 4, 5, 4, 4, 1, 5, 4, 5, 6, 5, 1, 6, 4, 3, 5, 4, 6, 0, 3, 4, 5, 1, 2, 5, 3, 1, 4, 6, 0, 1, 1, 5, 3, 4, 2, 4, 5, 1, 2, 1, 1, 6, 4, 1, 0, 6, 4, 2, 5, 5, 3, 0, 1, 6, 4, 1, 1, 4, 4, 4, 5, 1, 1, 6, 3, 2, 0, 2, 6, 6, 2, 3, 5, 5, 3, 1, 0, 4, 2, 3, 4, 0, 4, 5, 6, 1, 5, 3, 2, 4, 4, 6, 1, 2, 4, 6, 3, 4, 0, 5, 1, 5, 3, 0, 0, 5, 6, 5, 6, 6, 3, 4, 4, 3, 2, 3, 4, 5, 4, 3, 1, 2, 6, 2, 2, 4, 2, 2, 4, 6, 5, 5, 4, 1, 0, 5, 0, 0, 6, 4, 1, 0, 0, 3, 3, 1, 0, 6, 1, 2, 2, 4, 6, 3, 6, 1, 6, 4, 5, 6, 4, 3, 3, 6, 5, 2, 0, 4, 5, 3, 2, 5, 6, 5, 2, 4, 4, 5, 4, 4, 3, 3, 5, 4, 0, 5, 5, 1, 4, 4, 2, 4, 3, 5, 4, 5, 1, 4, 5, 1, 0, 0, 0, 6, 4, 0, 6, 0, 3, 0, 4, 0, 6, 6, 2, 5, 2, 5, 2, 4, 4, 0, 6, 1, 2, 4, 4, 6, 5, 3, 0, 3, 5, 4, 5, 4, 3, 1, 5, 0, 2, 2, 5, 4, 2, 0, 4, 4, 3, 6, 5, 4, 4, 2, 4, 1, 0, 5, 4, 5, 4, 1, 2, 6, 6, 3, 4, 4, 0, 5, 6, 6, 5, 1, 2, 4, 5, 1, 3, 4, 1, 3, 5, 4, 2, 4, 1, 0, 4, 3, 2, 2, 3, 6, 1, 1, 1, 6, 6, 4, 4, 4, 6, 3, 4, 4, 6, 6, 3, 5, 6, 1, 0, 2, 4, 4, 2, 3, 2, 4, 3, 4, 1, 6, 3, 2, 5, 4, 4, 4, 6, 0, 4, 0, 1, 5, 5, 6, 5, 4, 3, 2, 1, 6, 0, 6, 3, 6, 2, 4, 0, 3, 1, 4, 4, 6, 1, 1, 3, 4, 3, 4, 3, 2, 1, 1, 4, 1, 1, 4, 3, 1, 5, 4, 4, 5, 1, 2, 4, 6, 4, 5, 4, 2, 0, 6, 1, 2, 3, 2, 3, 6, 3, 1, 3, 4, 6, 5, 1, 1, 2, 3, 3, 4, 4, 6, 5, 4, 0, 2, 5, 3, 5, 4, 3, 4, 6, 2, 6, 5, 6, 5, 3, 6, 0, 5, 1, 4, 6, 5, 5, 2, 0, 2, 0, 1, 0, 6, 4, 2, 0, 5, 4, 1, 2, 6, 0, 1, 4, 5, 5, 4, 5, 3, 2, 3, 6, 6, 5, 2, 5, 4, 3, 6, 6, 5, 3, 2, 0, 5, 5, 6, 2, 3, 4, 0, 6, 6, 5, 6, 4, 1, 2, 1, 4, 0, 5, 2, 4, 3, 5, 5, 0, 3, 6, 5, 5, 5, 6, 5, 5, 5, 6, 3, 1, 1, 2, 2, 3, 1, 0, 0, 6, 5, 2, 1, 6, 1, 6, 0, 3, 6, 1, 4, 6, 3, 0, 6, 2, 2, 3, 5, 4, 0, 6, 5, 6, 4, 3, 6, 0, 3, 1, 4, 4, 0, 4, 6, 5, 0, 4, 3, 5, 1, 4, 0, 1, 6, 1, 4, 4, 1, 5, 4, 5, 4, 0, 0, 1, 2, 0, 2, 3, 4, 2, 0, 6, 3, 5, 4, 1, 3, 1, 0, 1, 5, 5, 5, 6, 3, 0, 6, 6, 1, 6, 5, 4, 5, 4, 1, 5, 2, 0, 6, 3, 4, 2, 6, 1, 5, 5, 6, 3, 4, 5, 2, 5, 0, 4, 1, 1, 4, 2, 2, 0, 4, 6, 1, 5, 3, 2, 4, 5, 1, 2, 5, 4, 6, 3, 3, 0, 6, 4, 5, 5, 3, 4, 6, 1, 6, 1, 5, 2, 4, 4, 4, 6, 0, 6, 3, 6, 5, 0, 4, 0, 6, 2, 2, 6, 5, 3, 1, 2, 4, 6, 4, 6, 3, 2, 2, 4, 3, 6, 4, 4, 4, 5, 0, 0, 2, 0, 6, 6, 3, 4, 5, 3, 6, 4, 4, 6, 6, 3, 4, 0, 2, 5, 2, 1, 0, 4, 0, 0, 4, 6, 3, 0, 4, 0, 5, 6, 5, 3, 3, 3, 0, 3, 4, 4, 4, 6, 4, 6, 3, 6, 3, 2, 4, 6, 5, 0, 6, 1, 2, 0, 1, 6, 1, 2, 4, 2, 4, 5, 1, 3, 1, 5, 2, 2, 0, 5, 1, 5, 1, 5, 5, 5, 3, 6, 6, 0, 6, 6, 1, 4, 0, 0, 3, 5, 4, 3, 3, 2, 3, 5, 3, 5, 2, 1, 1, 6, 0, 3, 2, 4, 2, 3, 4, 0, 0, 3, 5, 6, 4, 0, 6, 0, 2, 6, 4, 4, 0, 4, 6, 5, 1, 0, 4, 1, 0, 3, 3, 6, 5, 4, 3, 0, 3, 5, 0, 2, 2, 6, 1, 3, 4, 6, 1, 1, 1, 4, 3, 5, 2, 3, 2, 4, 4, 2, 2, 2, 4, 5, 4, 5, 3, 4, 5, 6, 2, 6, 6, 2, 1, 5, 5, 0, 6, 3, 2, 4, 3, 1, 5, 3, 4, 2, 1, 6, 2, 6, 3, 4, 5, 2, 3, 2, 6, 3, 0, 5, 6, 6, 2, 0, 0, 5, 0, 4, 5, 0, 4, 4, 5, 3, 0, 6, 6, 2, 2, 3, 5, 5, 6, 3, 4, 6, 6, 4, 4, 6, 5, 6, 3, 1, 6, 6, 6, 5, 3, 0, 4, 2, 3, 2, 4, 3, 4, 4, 3, 3, 5, 1, 2, 2, 6, 0, 2, 1, 0, 3, 5, 3, 6, 3, 5, 0, 1, 6, 3, 6, 4, 4, 2, 5, 6, 5, 0, 3, 6, 4, 3, 4, 4, 3, 2, 1, 0, 6, 4, 5, 4, 0, 6, 2, 5, 4, 3, 5, 3, 0, 1, 2, 5, 3, 4, 0, 0, 4, 4, 2, 0, 1, 0, 4, 0, 5, 4, 5, 3, 1, 6, 3, 0, 0, 0, 3, 6, 0, 6, 0, 5, 6, 3, 6, 3, 0, 5, 5, 6, 4, 2, 4, 5, 0, 4, 6, 6, 4, 5, 0, 3, 4, 0, 6, 5, 6, 0, 2, 1, 6, 5, 2, 4, 3, 4, 0, 1, 6, 3, 6, 5, 4, 5, 3, 6, 3, 6, 4, 5, 0, 1, 2, 6, 2, 6, 3, 3, 4, 4, 2, 1, 4, 4, 3, 5, 5, 0, 2, 6, 4, 5, 1, 1, 0, 2, 5, 3, 6, 5, 1, 1, 4, 6, 5, 4, 5, 1, 6, 2, 1, 1, 1, 3, 4, 6, 4, 1, 0, 5, 5, 5, 4, 4, 5, 2, 4, 6, 4, 6, 1, 6, 3, 1, 5, 6, 3, 4, 1, 1, 1, 4, 6, 6, 2, 0, 1, 5, 4, 6, 5, 3, 5, 5, 1, 1, 0, 6, 4, 4, 5, 3, 2, 5, 4, 6, 5, 0, 0, 1, 6, 2, 4, 4, 5, 3, 5, 0, 1, 1, 0, 3, 0, 6, 5, 2, 2, 4, 6, 1, 6, 4, 6, 2, 6, 5, 5, 3, 5, 5, 3, 3, 4, 3, 6, 1, 4, 4, 4, 6, 2, 4, 1, 4, 0, 5, 6, 2, 2, 1, 4, 1, 2, 3, 2, 2, 2, 4, 5, 3, 3, 5, 4, 4, 0, 2, 2, 1, 2, 5, 0, 4, 4, 5, 1, 0, 3, 2, 1, 4, 3, 3, 2, 6, 4, 5, 4, 6, 3, 6, 5, 5, 4, 5, 4, 0, 4, 3, 1, 4, 0, 5, 6, 5, 5, 1, 5, 4, 2, 2, 6, 1, 6, 5, 4, 0, 0, 5, 4, 4, 2, 4, 6, 1, 4, 6, 5, 5, 3, 4, 1, 5, 4, 4, 1, 5, 5, 5, 5, 3, 4, 5, 4, 6, 6, 4, 1, 6, 5, 5, 6, 0, 6, 0, 4, 4, 6, 6, 2, 2, 6, 5, 1, 6, 4, 2, 1, 1, 3, 5, 2, 5, 4, 1, 5, 1, 5, 5, 0, 0, 0, 4, 1, 4, 5, 2, 6, 4, 0, 6, 6, 0, 3, 5, 4, 4, 5, 5, 4, 6, 6, 5, 6, 2, 2, 5, 5, 2, 2, 1, 3, 4, 5, 0, 0, 6, 1, 3, 4, 4, 4, 2, 2, 1, 3, 4, 6, 3, 0, 4, 4, 2, 2, 4, 4, 6, 6, 4, 6, 0, 2, 5, 4, 5, 5, 1, 4, 3, 2, 1, 2, 3, 4, 3, 6, 6, 4, 2, 5, 2, 5, 1, 4, 4, 4, 2, 4, 4, 4, 5, 6, 2, 4, 0, 1, 1, 3, 1, 4, 4, 3, 4, 6, 1, 4, 0, 6, 3, 0, 5, 0, 3, 1, 5, 5, 2, 3, 3, 3, 3, 1, 2, 1, 0, 4, 5, 2, 5, 1, 5, 0, 5, 5, 1, 1, 4, 4, 2, 2, 3, 0, 3, 4, 0, 3, 5, 6, 3, 4, 0, 5, 3, 0, 4, 6, 0, 6, 4, 1, 0, 5, 2, 3, 6, 6, 0, 1, 5, 4, 4, 5, 4, 0, 6, 4, 5, 4, 6, 6, 4, 1, 6, 4, 5, 5, 3, 1, 5, 0, 6, 5, 0, 2, 5, 1, 3, 1, 3, 4, 2, 0, 1, 4, 5, 0, 1, 2, 6, 5, 4, 4, 1, 5, 4, 0, 1, 0, 6, 6, 2, 3, 2, 1, 0, 4, 4, 0, 4, 4, 2, 3, 4, 2, 6, 6, 3, 5, 2, 1, 0, 0, 5, 6, 1, 2, 5, 6, 0, 4, 1, 4, 3, 3, 2, 6, 4, 6, 4, 4, 6, 3, 6, 1, 6, 5, 0, 2, 5, 4, 4, 2, 4, 0, 1, 1, 5, 2, 6, 5, 6, 5, 4, 3, 5, 0, 0, 0, 6, 6, 6, 0, 3, 1, 6, 5, 1, 3, 3, 1, 4, 4, 5, 5, 1, 0, 4, 6, 4, 6, 3, 1, 3, 5, 5, 0, 6, 2, 4, 2, 2, 3, 6, 2, 2, 3, 4, 6, 3, 6, 2, 5, 0, 3, 3, 3, 4, 0, 4, 0, 4, 5, 6, 0, 5, 2, 2, 4, 4, 1, 4, 5, 6, 1, 0, 4, 1, 0, 3, 5, 3, 1, 4, 1, 0, 2, 4, 3, 4, 3, 1, 4, 3, 0, 5, 4, 6, 2, 1, 4, 6, 2, 6, 4, 4, 5, 1, 3, 1, 3, 3, 6, 6, 0, 0, 4, 2, 6, 5, 1, 5, 4, 1, 0, 0, 4, 1, 3, 2, 5, 0, 2, 1, 4, 2, 3, 6, 5, 2, 4, 6, 1, 5, 2, 4, 4, 2, 6, 6, 6, 3, 1, 6, 0, 4, 2, 5, 5, 6, 5, 5, 6, 6, 1, 0, 4, 3, 6, 5, 5, 1, 4, 2, 2, 4, 4, 6, 5, 2, 3, 6, 2, 4, 0, 4, 4, 1, 1, 4, 3, 3, 3, 5, 0, 4, 6, 6, 5, 1, 3, 3, 6, 6, 4, 1, 1, 5, 3, 4, 3, 6, 1, 4, 2, 6, 6, 0, 2, 5, 5, 4, 1, 4, 2, 4, 6, 3, 1, 1, 0, 4, 1, 5, 3, 1, 4, 1, 6, 4, 3, 6, 6, 0, 1, 6, 4, 1, 2, 6, 0, 5, 5, 1, 0, 0, 6, 0, 6, 6, 5, 3, 2, 1, 0, 3, 1, 2, 5, 3, 4, 1, 5, 5, 2, 5, 3, 5, 4, 0, 3, 4, 5, 1, 5, 2, 5, 5, 6, 6, 2, 6, 4, 4, 1, 3, 2, 4, 4, 4, 0, 6, 4, 6, 6, 5, 1, 1, 6, 1, 1, 4, 4, 4, 3, 2, 6, 0, 0, 4, 2, 1, 5, 6, 5, 4, 1, 1, 4, 1, 1, 6, 3, 4, 4, 1, 6, 4, 1, 4, 0, 2, 3, 1, 6, 5, 6, 3, 5, 4, 2, 4, 4, 4, 0, 4, 4, 6, 4, 5, 4, 3, 1, 3, 5, 2, 1, 5, 5, 5, 5, 0, 5, 5, 1, 1, 4, 6, 5, 2, 6, 3, 4, 4, 5, 5, 4, 2, 5, 5, 4, 4, 4, 0, 5, 6, 2, 3, 0, 1, 4, 2, 3, 0, 5, 1, 6, 6, 2, 3, 4, 0, 1, 1, 2, 4, 1, 2, 5, 2, 2, 3, 5, 6, 4, 5, 1, 4, 5, 1, 5, 2, 0, 6, 2, 2, 6, 1, 6, 1, 1, 1, 1, 4, 4, 3, 5, 5, 5, 1, 5, 5, 0, 4, 4, 4, 5, 2, 2, 4, 5, 6, 3, 2, 6, 2, 3, 3, 5, 2, 5, 6, 5, 4, 6, 2, 6, 2, 3, 2, 0, 2, 6, 6, 4, 4, 4, 4, 4, 6, 0, 4, 1, 5, 2, 4, 0, 6, 4, 3, 5, 1, 0, 2, 6, 1, 0, 5, 0, 5, 6, 4, 5, 4, 6, 0, 6, 4, 0, 1, 6, 5, 0, 4, 0, 2, 3, 2, 1, 4, 6, 5, 6, 4, 0, 1, 6, 5, 5, 6, 2, 5, 6, 3, 1, 5, 5, 5, 1, 3, 6, 5, 2, 4, 6, 0, 4, 3, 2, 0, 0, 5, 0, 0, 4, 0, 6, 5, 5, 2, 0, 3, 1, 6, 1, 5, 0, 6, 5, 2, 0, 4, 5, 1, 0, 5, 4, 5, 1, 0, 4, 5, 3, 4, 1, 5, 6, 5, 6, 5, 0, 0, 1, 4, 3, 5, 4, 4, 1, 1, 2, 1, 4, 3, 0, 0, 6, 4, 1, 4, 0, 4, 5, 4, 6, 4, 4, 2, 1, 6, 3, 0, 6, 4, 3, 4, 3, 3, 6, 0, 0, 4, 0, 0, 4, 2, 4, 3, 6, 0, 6, 4, 1, 3, 0, 6, 1, 4, 5, 2, 0, 0, 6, 5, 4, 0, 5, 6, 6, 4, 2, 4, 0, 0, 0, 1, 5, 5, 5, 4, 2, 1, 2, 4, 3, 5, 0, 5, 4, 0, 0, 6, 3, 4, 4, 4, 4, 5, 3, 5, 4, 4, 6, 3, 4, 4, 2, 5, 4, 5, 0, 1, 4, 4, 4, 5, 2, 6, 5, 4, 6, 5, 5, 4, 1, 4, 3, 6, 3, 4, 5, 0, 0, 6, 1, 1, 3, 4, 2, 0, 4, 6, 6, 6, 3, 5, 3, 4, 0, 3, 5, 6, 4, 5, 2, 3, 0, 2, 4, 1, 0, 4, 5, 4, 6, 1, 6, 0, 3, 2, 3, 1, 5, 5, 6, 3, 0, 6, 2, 1, 1, 3, 4, 2, 1, 6, 1, 6, 5, 2, 1, 6, 2, 6, 4, 0, 4, 5, 0, 2, 4, 3, 4, 5, 1, 1, 6, 3, 5, 4, 4, 3, 5, 6, 4, 0, 0, 4, 5, 6, 4, 5, 3, 5, 0, 4, 0, 4, 1, 0, 5, 6, 6, 5, 3, 2, 5, 4, 6, 1, 5, 3, 0, 6, 1, 4, 4, 0, 3, 2, 5, 3, 6, 0, 5, 2, 6, 4, 5, 6, 0, 4, 0, 6, 6, 5, 6, 1, 1, 3, 2, 0, 0, 4, 6, 4, 0, 1, 4, 5, 4, 2, 4, 5, 0, 5, 0, 1, 3, 4, 1, 4, 3, 2, 5, 6, 0, 5, 5, 2, 5, 0, 4, 6, 6, 2, 4, 2, 4, 6, 0, 6, 2, 5, 2, 5, 6, 1, 4, 4, 5, 6, 6, 4, 1, 6, 4, 6, 6, 6, 2, 2, 5, 4, 6, 6, 3, 0, 6, 6, 5, 3, 5, 1, 5, 4, 5, 5, 1, 2, 3, 0, 0, 5, 6, 5, 3, 0, 3, 0, 5, 2, 4, 3, 3, 6, 3, 1, 4, 1, 2, 3, 4, 1, 1, 3, 6, 4, 0, 1, 5, 5, 1, 1, 6, 4, 5, 2, 4, 0, 5, 4, 6, 3, 4, 2, 1, 4, 2, 6, 4, 4, 1, 0, 1, 0, 5, 1, 6, 4, 1, 6, 2, 6, 0, 6, 1, 6, 2, 3, 0, 4, 5, 4, 5, 5, 4, 1, 4, 5, 4, 0, 1, 0, 2, 3, 4, 3, 1, 6, 4, 4, 2, 0, 5, 5, 6, 4, 2, 0, 1, 1, 6, 5, 4, 1, 4, 6, 2, 1, 4, 6, 4, 4, 0, 6, 5, 4, 4, 6, 4, 6, 4, 4, 2, 6, 0, 3, 4, 5, 4, 2, 1, 0, 6, 5, 2, 4, 6, 3, 3, 6, 2, 5, 4, 2, 5, 6, 6, 4, 0, 1, 3, 4, 5, 2, 1, 5, 2, 6, 5, 5, 6, 3, 4, 6, 6, 0, 6, 0, 5, 4, 2, 6, 0, 3, 4, 2, 6, 6, 0, 3, 6, 4, 5, 3, 4, 6, 2, 5, 0, 1, 5, 5, 5, 1, 4, 1, 4, 3, 2, 6, 1, 0, 5, 4, 1, 4, 4, 3, 0, 5, 2, 5, 4, 1, 0, 2, 5, 2, 0, 5, 5, 4, 2, 4, 3, 3, 3, 5, 0, 3, 3, 5, 2, 6, 5, 2, 5, 5, 5, 6, 1, 3, 5, 5, 3, 3, 4, 3, 5, 2, 5, 1, 4, 2, 4, 5, 6, 2, 6, 5, 3, 4, 4, 6, 6, 1, 5, 3, 4, 2, 2, 2, 6, 1, 0, 4, 5, 0, 5, 4, 1, 6, 4, 5, 3, 6, 0, 2, 3, 2, 3, 6, 3, 6, 4, 5, 4, 6, 1, 0, 6, 5, 4, 5, 0, 4, 6, 2, 1, 6, 0, 2, 6, 4, 4, 3, 2, 4, 6, 6, 2, 4, 3, 6, 1, 6, 2, 6, 3, 5, 3, 4, 3, 6, 4, 6, 5, 5, 5, 5, 4, 4, 6, 3, 3, 6, 4, 5, 2, 5, 0, 5, 2, 2, 0, 5, 6, 6, 4, 3, 4, 0, 1, 0, 0, 2, 6, 0, 6, 1, 3, 2, 3, 6, 6, 4, 4, 2, 0, 0, 2, 5, 6, 5, 0, 0, 6, 5, 4, 3, 3, 1, 1, 1, 6, 5, 2, 5, 0, 2, 4, 5, 1, 5, 3, 2, 0, 5, 6, 2, 3, 5, 5, 4, 6, 6, 0, 6, 5, 1, 4, 6, 4, 1, 0, 0, 2, 3, 5, 6, 6, 0, 5, 6, 0, 1, 1, 5, 5, 4, 4, 1, 5, 1, 4, 4, 0, 3, 5, 3, 4, 5, 1, 0, 1, 5, 0, 4, 6, 6, 2, 1, 3, 6, 4, 6, 5, 1, 6, 3, 0, 2, 2, 6, 6, 2, 5, 0, 5, 0, 5, 2, 3, 5, 4, 4, 5, 0, 2, 0, 4, 5, 5, 1, 6, 3, 5, 4, 6, 5, 6, 6, 6, 5, 4, 6, 3, 4, 5, 5, 3, 3, 1, 5, 4, 1, 0, 3, 0, 4, 4, 3, 6, 0, 0, 5, 0, 0, 4, 6, 2, 4, 1, 3, 5, 4, 1, 4, 4, 2, 3, 6, 1, 2, 0, 1, 5, 2, 5, 3, 1, 4, 2, 4, 3, 3, 4, 6, 6, 3, 2, 0, 3, 1, 6, 0, 6, 2, 1, 6, 0, 6, 0, 0, 1, 3, 3, 4, 6, 4, 4, 0, 4, 5, 1, 5, 1, 5, 5, 0, 5, 6, 4, 6, 6, 6, 4, 5, 6, 2, 3, 4, 6, 5, 3, 0, 3, 3, 3, 0, 0, 1, 2, 1, 3, 6, 6, 0, 6, 5, 0, 0, 6, 1, 6, 4, 6, 4, 2, 5, 0, 6, 6, 3, 2, 6, 4, 2, 3, 0, 4, 4, 0, 4, 5, 1, 1, 2, 4, 6, 4, 0, 6, 6, 4, 1, 0, 5, 4, 2, 6, 4, 0, 0, 3, 5, 5, 6, 4, 0, 0, 6, 3, 4, 1, 2, 1, 3, 0, 6, 0, 0, 0, 6, 4, 6, 1, 2, 1, 4, 3, 3, 3, 3, 2, 1, 6, 3, 3, 1, 4, 6, 6, 2, 5, 3, 4, 0, 1, 5, 4, 5, 5, 4, 3, 3, 4, 5, 4, 6, 1, 6, 3, 1, 0, 5, 6, 4, 4, 5, 5, 5, 5, 1, 5, 1, 5, 4, 4, 4, 2, 4, 6, 2, 6, 3, 5, 1, 0, 5, 6, 4, 5, 0, 6, 0, 1, 5, 4, 6, 4, 4, 1, 5, 5, 4, 3, 4, 3, 5, 6, 6, 6, 0, 3, 4, 5, 2, 1, 1, 4, 2, 2, 0, 5, 4, 4, 1, 3, 6, 1, 4, 3, 6, 2, 5, 3, 0, 3, 5, 6, 4, 2, 3, 2, 3, 5, 1, 3, 4, 6, 1, 4, 4, 0, 4, 3, 4, 4, 4, 5, 3, 4, 6, 4, 3, 3, 6, 5, 0, 0, 1, 6, 5, 0, 4, 6, 1, 2, 4, 5, 4, 4, 1, 3, 0, 2, 5, 5, 4, 3, 5, 6, 0, 0, 6, 4, 1, 6, 6, 5, 1, 5, 4, 3, 1, 0, 5, 4, 4, 5, 3, 3, 1, 0, 5, 0, 6, 4, 6, 0, 4, 3, 4, 4, 5, 2, 0, 5, 4, 5, 6, 5, 2, 3, 4, 1, 4, 1, 2, 3, 6, 5, 0, 6, 4, 1, 5, 0, 6, 5, 5, 5, 6, 3, 1, 2, 5, 5, 6, 4, 2, 5, 4, 1, 5, 6, 0, 3, 4, 3, 2, 2, 2, 2, 0, 3, 1, 6, 5, 6, 2, 5, 4, 0, 4, 4, 4, 6, 3, 0, 6, 1, 0, 4, 2, 3, 0, 5, 0, 4, 6, 3, 4, 6, 1, 2, 4, 4, 0, 1, 5, 4, 4, 5, 6, 6, 2, 2, 3, 4, 4, 4, 6, 6, 3, 5, 6, 5, 1, 2, 0, 1, 6, 4, 4, 5, 5, 2, 5, 2, 2, 3, 1, 4, 1, 1, 5, 0, 6, 4, 0, 0, 4, 3, 0, 5, 1, 4, 0, 0, 4, 2, 5, 3, 4, 6, 5, 4, 6, 0, 6, 1, 4, 2, 2, 1, 1, 5, 5, 4, 4, 6, 4, 3, 1, 5, 4, 5, 4, 3, 4, 5, 2, 2, 6, 6, 5, 0, 0, 4, 3, 6, 3, 6, 5, 4, 5, 5, 2, 4, 1, 5, 1, 0, 4, 2, 1, 6, 6, 2, 1, 0, 3, 6, 4, 6, 6, 2, 6, 0, 3, 6, 6, 6, 0, 3, 4, 3, 5, 0, 5, 4, 6, 3, 6, 2, 3, 3, 6, 3, 3, 2, 0, 0, 1, 1, 0, 0, 0, 4, 2, 3, 5, 5, 6, 1, 6, 3, 3, 2, 5, 1, 3, 6, 0, 5, 5, 1, 2, 6, 4, 6, 5, 2, 1, 5, 0, 0, 6, 2, 3, 6, 6, 0, 4, 1, 6, 5, 2, 5, 3, 6, 2, 1, 6, 4, 1, 1, 4, 6, 5, 0, 0, 4, 0, 6, 1, 5, 2, 6, 6, 3, 5, 5, 5, 5, 1, 6, 4, 4, 3, 2, 6, 1, 4, 6, 2, 1, 6, 6, 6, 6, 4, 4, 6, 3, 5, 5, 1, 1, 1, 5, 2, 6, 5, 5, 0, 2, 4, 4, 3, 5, 4, 5, 4, 2, 2, 2, 4, 2, 4, 0, 4, 3, 2, 2, 1, 2, 5, 0, 4, 4, 5, 0, 6, 0, 2, 3, 2, 1, 1, 3, 4, 4, 4, 4, 4, 4, 5, 1, 5, 5, 4, 6, 5, 4, 5, 6, 1, 6, 4, 0, 4, 6, 4, 5, 6, 1, 0, 3, 4, 4, 5, 5, 0, 6, 4, 4, 4, 4, 3, 5, 4, 4, 1, 3, 6, 5, 1, 5, 4, 5, 4, 4, 4, 1, 4, 6, 4, 5, 1, 1, 0, 4, 5, 5, 5, 6, 6, 3, 1, 6, 2, 4, 5, 4, 6, 6, 5, 6, 0, 0, 6, 2, 4, 1, 2, 4, 4, 0, 2, 3, 6, 5, 3, 4, 3, 6, 4, 5, 1, 0, 1, 5, 1, 6, 5, 6, 1, 1, 2, 0, 6, 6, 4, 2, 3, 3, 2, 5, 2, 6, 0, 0, 2, 4, 6, 1, 6, 4, 1, 2, 4, 6, 6, 4, 5, 0, 4, 4, 2, 2, 4, 6, 3, 6, 6, 6, 5, 6, 5, 6, 0, 3, 5, 4, 2, 2, 4, 3, 4, 5, 3, 0, 2, 5, 0, 5, 2, 4, 0, 2, 4, 4, 2, 5, 6, 4, 2, 3, 0, 3, 6, 1, 4, 6, 6, 2, 6, 5, 4, 0, 4, 0, 0, 0, 4, 2, 2, 5, 5, 4, 1, 2, 6, 0, 4, 5, 4, 4, 4, 4, 4, 3, 4, 6, 6, 4, 0, 2, 5, 5, 6, 1, 6, 4, 4, 4, 6, 6, 1, 4, 6, 2, 2, 0, 2, 1, 5, 4, 6, 3, 4, 1, 3, 5, 3, 5, 2, 3, 6, 6, 6, 3, 4, 5, 4, 0, 1, 3, 6, 3, 1, 4, 0, 0, 4, 0, 2, 4, 4, 3, 0, 5, 4, 4, 4, 4, 5, 6, 3, 4, 6, 2, 4, 0, 3, 3, 2, 0, 2, 1, 0, 0, 0, 6, 4, 2, 5, 5, 2, 5, 4, 0, 1, 3, 1, 0, 5, 6, 0, 0, 5, 5, 4, 2, 3, 2, 6, 5, 0, 6, 6, 4, 2, 3, 3, 0, 1, 4, 3, 3, 5, 5, 2, 2, 2, 2, 5, 0, 1, 0, 4, 4, 4, 6, 4, 4, 4, 6, 3, 6, 1, 4, 4, 1, 2, 6, 3, 5, 1, 4, 6, 2, 2, 5, 6, 0, 5, 4, 4, 1, 3, 0, 6, 4, 4, 4, 2, 2, 5, 0, 5, 4, 2, 1, 6, 1, 2, 5, 1, 1, 4, 0, 5, 0, 5, 2, 4, 0, 4, 3, 4, 5, 1, 3, 3, 2, 1, 4, 2, 4, 1, 3, 6, 4, 2, 6, 6, 0, 1, 3, 2, 5, 6, 5, 6, 0, 4, 0, 2, 1, 6, 6, 5, 0, 4, 5, 6, 4, 1, 6, 6, 4, 5, 5, 1, 2, 4, 4, 4, 3, 1, 5, 4, 6, 1, 3, 0, 4, 1, 5, 0, 4, 0, 6, 4, 3, 5, 1, 1, 4, 6, 4, 1, 4, 3, 2, 4, 3, 4, 6, 0, 5, 1, 2, 6, 0, 5, 3, 3, 3, 1, 5, 2, 5, 3, 6, 4, 1, 3, 5, 2, 6, 0, 2, 5, 0, 2, 2, 3, 2, 1, 2, 4, 1, 0, 5, 1, 4, 4, 6, 6, 3, 5, 5, 1, 6, 2, 4, 0, 1, 1, 1, 0, 6, 4, 1, 4, 6, 1, 6, 5, 3, 1, 5, 5, 3, 1, 4, 3, 6, 4, 2, 0, 6, 4, 6, 5, 5, 6, 6, 1, 1, 4, 6, 2, 6, 1, 4, 2, 2, 6, 5, 0, 3, 2, 3, 6, 4, 3, 6, 2, 2, 4, 0, 5, 6, 0, 6, 2, 1, 1, 6, 6, 2, 5, 3, 4, 3, 0, 5, 5, 6, 3, 4, 6, 2, 5, 2, 4, 1, 5, 1, 4, 5, 4, 2, 6, 0, 5, 4, 6, 6, 1, 5, 5, 5, 4, 2, 3, 1, 0, 4, 5, 1, 4, 4, 6, 6, 4, 3, 0, 4, 4, 4, 5, 4, 4, 5, 5, 6, 4, 2, 5, 6, 1, 5, 5, 2, 6, 3, 0, 5, 5, 6, 5, 4, 2, 1, 3, 4, 6, 6, 0, 1, 0, 5, 2, 5, 3, 3, 6, 5, 4, 4, 2, 6, 2, 2, 4, 4, 0, 3, 0, 4, 5, 4, 3, 1, 1, 6, 2, 5, 3, 4, 2, 3, 6, 1, 4, 4, 4, 5, 2, 0, 0, 5, 6, 2, 5, 6, 0, 3, 5, 1, 4, 1, 2, 2, 4, 1, 2, 6, 4, 5, 1, 4, 4, 5, 5, 4, 2, 4, 0, 4, 3, 4, 0, 5, 2, 6, 5, 4, 4, 5, 4, 0, 6, 5, 2, 3, 4, 0, 4, 2, 5, 6, 3, 6, 4, 0, 4, 5, 1, 6, 5, 6, 4, 4, 6, 4, 1, 0, 3, 0, 4, 4, 4, 1, 5, 3, 4, 2, 2, 5, 0, 1, 3, 5, 0, 6, 4, 2, 5, 4, 3, 3, 1, 2, 6, 4, 4, 6, 1, 4, 6, 2, 2, 5, 3, 5, 1, 4, 3, 2, 1, 5, 4, 3, 4, 3, 6, 5, 5, 2, 4, 2, 3, 6, 2, 0, 4, 6, 6, 1, 0, 6, 6, 5, 1, 2, 0, 3, 6, 6, 5, 4, 4, 1, 5, 3, 0, 3, 3, 5, 4, 2, 2, 4, 5, 5, 4, 4, 5, 4, 2, 2, 0, 0, 4, 4, 4, 6, 5, 4, 1, 0, 5, 4, 6, 2, 5, 5, 1, 4, 2, 6, 6, 2, 5, 4, 4, 3, 6, 3, 4, 6, 2, 6, 5, 5, 4, 1, 4, 3, 6, 3, 2, 1, 4, 0, 5, 2, 4, 1, 5, 5, 5, 1, 5, 5, 3, 3, 1, 2, 2, 1, 6, 2, 2, 1, 4, 5, 2, 2, 1, 2, 3, 6, 2, 0, 4, 4, 0, 1, 6, 6, 0, 5, 2, 0, 6, 4, 1, 4, 2, 5, 6, 2, 4, 5, 6, 0, 0, 5, 3, 4, 1, 3, 4, 5, 1, 6, 6, 0, 5, 1, 3, 2, 6, 5, 3, 2, 1, 5, 4, 4, 3, 3, 1, 6, 0, 0, 3, 3, 3, 6, 1, 0, 3, 4, 2, 5, 6, 4, 6, 1, 3, 5, 2, 5, 3, 1, 0, 1, 5, 6, 0, 5, 3, 3, 0, 4, 5, 0, 5, 1, 3, 6, 2, 3, 1, 5, 0, 0, 6, 2, 4, 6, 1, 1, 1, 4, 1, 3, 1, 3, 5, 4, 0, 1, 5, 2, 5, 4, 1, 3, 4, 5, 4, 1, 2, 1, 4, 1, 6, 0, 6, 1, 6, 4, 3, 4, 5, 4, 5, 0, 3, 1, 5, 2, 6, 5, 1, 2, 4, 4, 1, 4, 6, 2, 1, 0, 6, 2, 3, 5, 5, 5, 2, 5, 5, 5, 3, 1, 5, 4, 4, 3, 3, 6, 2, 1, 5, 4, 4, 4, 6, 5, 6, 4, 6, 4, 4, 2, 4, 5, 6, 6, 0, 4, 5, 4, 1, 1, 1, 5, 0, 2, 6, 4, 0, 1, 0, 3, 2, 4, 6, 5, 0, 4, 0, 0, 1, 4, 6, 5, 6, 6, 6, 4, 5, 4, 3, 4, 1, 4, 5, 6, 4, 0, 6, 0, 6, 5, 6, 2, 2, 2, 5, 2, 2, 3, 5, 5, 1, 1, 0, 2, 6, 3, 4, 6, 3, 4, 0, 3, 4, 1, 5, 4, 1, 5, 2, 5, 6, 3, 4, 1, 5, 0, 3, 2, 4, 3, 4, 1, 1, 5, 3, 1, 0, 5, 2, 1, 4, 1, 2, 2, 1, 5, 5, 4, 1, 4, 4, 6, 4, 0, 5, 6, 4, 2, 6, 6, 0, 4, 0, 1, 6, 1, 4, 4, 5, 6, 1, 4, 5, 4, 2, 0, 4, 5, 2, 0, 6, 2, 3, 6, 1, 2, 6, 1, 6, 4, 1, 0, 4, 4, 3, 1, 1, 4, 1, 4, 5, 6, 0, 5, 4, 4, 1, 2, 2, 2, 5, 4, 1, 3, 3, 3, 1, 1, 5, 6, 5, 6, 4, 3, 4, 4, 1, 5, 5, 4, 6, 6, 5, 0, 6, 5, 2, 4, 6, 2, 2, 1, 2, 4, 2, 5, 6, 5, 2, 0, 5, 2, 4, 0, 2, 4, 4, 5, 5, 4, 2, 1, 6, 5, 4, 6, 2, 2, 5, 6, 5, 0, 3, 4, 5, 6, 4, 0, 0, 0, 6, 4, 5, 3, 5, 0, 2, 6, 4, 0, 3, 1, 5, 4, 5, 4, 5, 3, 1, 3, 4, 3, 2, 0, 6, 3, 5, 2, 4, 3, 6, 3, 6, 6, 6, 0, 3, 4, 6, 3, 3, 6, 2, 4, 2, 2, 3, 0, 6, 2, 4, 5, 0, 5, 4, 6, 3, 4, 6, 5, 5, 3, 5, 5, 0, 5, 1, 3, 1, 6, 1, 5, 6, 4, 5, 0, 3, 1, 5, 4, 3, 4, 5, 5, 3, 0, 4, 6, 2, 0, 0, 4, 5, 4, 2, 0, 5, 4, 1, 4, 4, 6, 0, 6, 5, 4, 6, 5, 5, 6, 5, 4, 5, 1, 5, 4, 4, 4, 5, 6, 2, 0, 4, 4, 0, 5, 3, 6, 2, 5, 4, 5, 2, 6, 4, 4, 2, 5, 5, 6, 5, 3, 3, 2, 4, 1, 1, 1, 2, 1, 5, 5, 5, 5, 6, 6, 5, 3, 4, 2, 4, 3, 5, 1, 5, 0, 2, 5, 1, 5, 0, 4, 4, 2, 5, 6, 2, 6, 1, 2, 3, 1, 4, 4, 1, 4, 2, 0, 6, 6, 3, 2, 2, 1, 1, 5, 5, 2, 4, 6, 5, 5, 4, 0, 5, 5, 2, 6, 2, 6, 1, 0, 1, 5, 3, 3, 0, 2, 6, 3, 4, 4, 0, 4, 2, 0, 1, 4, 2, 4, 4, 4, 0, 0, 1, 3, 1, 2, 5, 3, 3, 6, 4, 5, 3, 4, 3, 6, 1, 6, 6, 2, 0, 4, 6, 6, 2, 1, 0, 4, 4, 1, 2, 1, 6, 3, 1, 1, 0, 0, 2, 1, 6, 6, 3, 3, 4, 1, 0, 4, 3, 3, 1, 4, 5, 5, 1, 2, 3, 4, 0, 5, 5, 4, 4, 4, 1, 5, 0, 4, 3, 5, 6, 4, 4, 3, 5, 6, 6, 4, 0, 4, 5, 6, 2, 1, 2, 0, 5, 6, 0, 3, 2, 3, 0, 3, 5, 4, 5, 3, 4, 2, 4, 3, 6, 3, 3, 4, 4, 3, 3, 5, 4, 6, 5, 3, 1, 2, 1, 0, 4, 4, 3, 5, 2, 4, 2, 4, 5, 0, 4, 6, 5, 2, 0, 1, 4, 5, 3, 0, 5, 3, 5, 6, 6, 6, 4, 0, 4, 5, 3, 5, 3, 5, 5, 5, 6, 1, 1, 6, 5, 5, 5, 1, 0, 6, 5, 4, 5, 3, 3, 6, 6, 2, 3, 6, 6, 0, 5, 6, 2, 3, 4, 6, 5, 5, 3, 5, 5, 2, 6, 3, 4, 3, 6, 5, 6, 0, 2, 0, 5, 2, 0, 6, 5, 6, 6, 3, 0, 5, 2, 0, 6, 6, 0, 5, 1, 2, 3, 3, 1, 2, 3, 6, 3, 1, 6, 4, 5, 5, 1, 5, 5, 5, 1, 6, 6, 6, 1, 0, 5, 0, 0, 4, 1, 5, 6, 0, 1, 6, 1, 6, 6, 6, 0, 6, 6, 2, 6, 0, 3, 0, 2, 5, 0, 0, 2, 3, 3, 6, 2, 1, 1, 2, 6, 0, 0, 6, 2, 3, 6, 2, 0, 5, 6, 6, 1, 0, 3, 3, 3, 1, 1, 3, 2, 5, 5, 1, 2, 1, 6, 3, 4, 4, 2, 0, 6, 5, 5, 6, 1, 6, 3, 6, 0, 3, 0, 5, 5, 2, 2, 1, 0, 3, 1, 0, 2, 2, 0, 2, 0, 0, 5, 2, 3, 1, 4, 0, 1, 2, 0, 1, 1, 3, 1, 2, 2, 0, 3, 0, 1, 3, 0, 1, 0, 1, 3, 2, 1, 2, 3, 1, 2, 0, 0, 2, 1, 0, 1, 3, 2, 1, 1, 2, 1, 2, 0, 1, 1, 0, 3, 0, 6, 1, 3, 2, 2, 4, 3, 4, 2, 3, 0, 1, 1, 2, 2, 3, 2, 2, 4, 2, 2, 2, 0, 1, 4, 0, 6, 2, 0, 2, 3, 3, 1, 2, 2, 3, 1, 2, 2, 4, 2, 1, 3, 3, 0, 3, 0, 0, 0, 0, 3, 0, 5, 0, 3, 1, 3, 1, 3, 1, 0, 4, 3, 3, 3, 1, 0, 2, 3, 0, 0, 1, 1, 0, 3, 1, 0, 3, 2, 2, 0, 0, 1, 1, 1, 0, 1, 3, 1, 1, 2, 1, 2, 3, 3, 2, 3, 1, 2, 1, 2, 1, 3, 3, 3, 2, 0, 0, 0, 3, 2, 1, 2, 2, 0, 2, 1, 0, 2, 4, 2, 3, 2, 0, 0, 1, 2, 1, 2, 0, 3, 3, 0, 3, 1, 3, 2, 6, 4, 4, 3, 0, 3, 0, 0, 0, 0, 3, 2, 2, 3, 5, 2, 0, 3, 2, 2, 1, 1, 0, 3, 1, 2, 2, 1, 1, 2, 2, 1, 6, 1, 2, 2, 3, 0, 0, 1, 2, 0, 3, 2, 1, 2, 0, 3, 0, 3, 4, 1, 2, 2, 0, 2, 2, 0, 2, 3, 3, 6, 0, 2, 3, 0, 2, 0, 1, 3, 0, 2, 1, 2, 0, 2, 1, 2, 0, 0, 0, 3, 2, 2, 0, 6, 1, 2, 0, 1, 3, 0, 1, 1, 0, 0, 0, 6, 2, 1, 0, 1, 1, 1, 3, 1, 3, 2, 3, 2, 0, 3, 1, 2, 2, 2, 0, 2, 6, 5, 0, 0, 2, 0, 1, 1, 3, 1, 2, 3, 1, 2, 3, 0, 2, 1, 1, 3, 0, 2, 3, 1, 1, 1, 3, 2, 2, 3, 2, 0, 4, 2, 3, 1, 0, 2, 3, 1, 1, 0, 1, 1, 0, 3, 2, 0, 3, 3, 2, 3, 0, 1, 1, 2, 1, 2, 1, 0, 3, 3, 0, 4, 0, 1, 4, 2, 3, 0, 0, 2, 0, 0, 0, 2, 3, 1, 0, 3, 2, 3, 2, 3, 1, 1, 3, 1, 1, 1, 1, 2, 1, 6, 2, 1, 2, 3, 3, 3, 0, 0, 2, 0, 3, 0, 2, 0, 1, 1, 0, 5, 0, 0, 2, 1, 0, 1, 1, 2, 3, 0, 0, 1, 2, 2, 2, 1, 3, 3, 2, 2, 1, 0, 3, 3, 3, 3, 3, 2, 2, 2, 3, 0, 6, 0, 1, 0, 1, 1, 6, 3, 2, 1, 1, 0, 1, 1, 1, 3, 3, 1, 2, 1, 1, 3, 3, 1, 2, 2, 1, 2, 1, 6, 1, 1, 1, 3, 1, 0, 0, 0, 4, 1, 4, 1, 0, 0, 3, 2, 3, 1, 1, 3, 0, 6, 1, 3, 2, 2, 1, 1, 3, 6, 2, 2, 0, 1, 2, 1, 3, 3, 1, 6, 1, 2, 0, 0, 3, 1, 2, 6, 2, 2, 0, 1, 2, 1, 1, 3, 1, 1, 1, 3, 0, 3, 1, 2, 1, 3, 1, 2, 2, 3, 1, 3, 3, 2, 1, 3, 2, 2, 2, 3, 1, 2, 0, 1, 3, 3, 6, 2, 1, 1, 3, 3, 1, 2, 3, 1, 1, 2, 3, 2, 1, 1, 1, 2, 1, 2, 3, 2, 3, 3, 1, 2, 1, 2, 3, 1, 3, 2, 2, 2, 3, 2, 2, 3, 1, 3, 0, 3, 0, 3, 4, 2, 3, 3, 2, 3, 3, 0, 4, 1, 3, 3, 2, 3, 3, 2, 3, 1, 3, 2, 0, 0, 2, 4, 3, 3, 3, 4, 2, 3, 2, 3, 2, 3, 3, 2, 3, 6, 3, 3, 0, 3, 3, 3, 4, 2, 2, 4, 2, 2, 3, 3, 2, 1, 3, 2, 2, 6, 2, 2, 6, 2, 0, 2, 3, 2, 6, 2, 4, 0, 2, 2, 4, 2, 6, 5, 2, 0, 5, 6, 6, 2, 2, 6, 1, 3, 2, 0, 0, 5, 2, 2, 6, 1, 2, 2, 2, 2, 2, 5, 2, 2, 2, 2, 6, 2, 6, 2, 2, 1, 2, 3, 2, 2, 2, 2, 2, 2, 2, 1, 2, 0, 2, 2, 2, 1, 2, 6, 2, 2, 2, 3, 2, 4, 2, 2, 6, 2, 5, 2, 2, 2, 2, 2, 2, 2, 2, 6, 2, 1, 2, 2, 2, 2, 2, 1, 2, 2, 2, 2, 2, 2, 2, 2, 1, 2, 5, 2, 3, 1, 3, 3, 1, 2, 5, 1, 2, 2, 2, 0, 0, 2, 6, 2, 6, 2, 0, 6, 2, 2, 2, 2, 2, 5, 2, 2, 0, 2, 2, 2, 2, 2, 2, 2, 2, 2, 2, 2, 2, 2, 2, 2, 2, 2, 6, 2, 2, 1, 3, 2, 2, 2, 2, 1, 0, 2, 2, 1, 2, 0, 2, 1, 2, 4, 2, 2, 2, 6, 4, 2, 2, 2, 2, 2, 2, 2, 2, 6, 2, 2, 3, 2, 4, 2, 2, 2, 6, 1, 2, 2, 3, 2, 2, 2, 2, 6, 1, 1, 0, 2, 2, 3, 1, 3, 2, 2, 2, 2]\n"
          ],
          "name": "stdout"
        },
        {
          "output_type": "display_data",
          "data": {
            "text/html": [
              "<div>\n",
              "<style scoped>\n",
              "    .dataframe tbody tr th:only-of-type {\n",
              "        vertical-align: middle;\n",
              "    }\n",
              "\n",
              "    .dataframe tbody tr th {\n",
              "        vertical-align: top;\n",
              "    }\n",
              "\n",
              "    .dataframe thead th {\n",
              "        text-align: right;\n",
              "    }\n",
              "</style>\n",
              "<table border=\"1\" class=\"dataframe\">\n",
              "  <thead>\n",
              "    <tr style=\"text-align: right;\">\n",
              "      <th></th>\n",
              "      <th>topic_idx</th>\n",
              "    </tr>\n",
              "    <tr>\n",
              "      <th>index</th>\n",
              "      <th></th>\n",
              "    </tr>\n",
              "  </thead>\n",
              "  <tbody>\n",
              "    <tr>\n",
              "      <th>45654</th>\n",
              "      <td>0</td>\n",
              "    </tr>\n",
              "    <tr>\n",
              "      <th>45655</th>\n",
              "      <td>3</td>\n",
              "    </tr>\n",
              "    <tr>\n",
              "      <th>45656</th>\n",
              "      <td>2</td>\n",
              "    </tr>\n",
              "    <tr>\n",
              "      <th>45657</th>\n",
              "      <td>2</td>\n",
              "    </tr>\n",
              "    <tr>\n",
              "      <th>45658</th>\n",
              "      <td>3</td>\n",
              "    </tr>\n",
              "    <tr>\n",
              "      <th>...</th>\n",
              "      <td>...</td>\n",
              "    </tr>\n",
              "    <tr>\n",
              "      <th>54780</th>\n",
              "      <td>3</td>\n",
              "    </tr>\n",
              "    <tr>\n",
              "      <th>54781</th>\n",
              "      <td>2</td>\n",
              "    </tr>\n",
              "    <tr>\n",
              "      <th>54782</th>\n",
              "      <td>2</td>\n",
              "    </tr>\n",
              "    <tr>\n",
              "      <th>54783</th>\n",
              "      <td>2</td>\n",
              "    </tr>\n",
              "    <tr>\n",
              "      <th>54784</th>\n",
              "      <td>2</td>\n",
              "    </tr>\n",
              "  </tbody>\n",
              "</table>\n",
              "<p>9131 rows × 1 columns</p>\n",
              "</div>"
            ],
            "text/plain": [
              "       topic_idx\n",
              "index           \n",
              "45654          0\n",
              "45655          3\n",
              "45656          2\n",
              "45657          2\n",
              "45658          3\n",
              "...          ...\n",
              "54780          3\n",
              "54781          2\n",
              "54782          2\n",
              "54783          2\n",
              "54784          2\n",
              "\n",
              "[9131 rows x 1 columns]"
            ]
          },
          "metadata": {
            "tags": []
          }
        },
        {
          "output_type": "stream",
          "text": [
            "9131\n"
          ],
          "name": "stdout"
        }
      ]
    }
  ]
}